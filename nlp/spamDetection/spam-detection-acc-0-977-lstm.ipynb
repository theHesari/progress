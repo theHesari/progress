{
 "cells": [
  {
   "cell_type": "code",
   "execution_count": 1,
   "id": "acbc3ca4",
   "metadata": {
    "_cell_guid": "b1076dfc-b9ad-4769-8c92-a6c4dae69d19",
    "_uuid": "8f2839f25d086af736a60e9eeb907d3b93b6e0e5",
    "execution": {
     "iopub.execute_input": "2024-09-11T11:42:23.283829Z",
     "iopub.status.busy": "2024-09-11T11:42:23.283376Z",
     "iopub.status.idle": "2024-09-11T11:42:23.712401Z",
     "shell.execute_reply": "2024-09-11T11:42:23.710280Z"
    },
    "papermill": {
     "duration": 0.43896,
     "end_time": "2024-09-11T11:42:23.715473",
     "exception": false,
     "start_time": "2024-09-11T11:42:23.276513",
     "status": "completed"
    },
    "tags": []
   },
   "outputs": [
    {
     "name": "stdout",
     "output_type": "stream",
     "text": [
      "/kaggle/input/sms-spam-collection-dataset/spam.csv\n"
     ]
    }
   ],
   "source": [
    "# This Python 3 environment comes with many helpful analytics libraries installed\n",
    "# It is defined by the kaggle/python Docker image: https://github.com/kaggle/docker-python\n",
    "# For example, here's several helpful packages to load\n",
    "\n",
    "import numpy as np # linear algebra\n",
    "import pandas as pd # data processing, CSV file I/O (e.g. pd.read_csv)\n",
    "\n",
    "# Input data files are available in the read-only \"../input/\" directory\n",
    "# For example, running this (by clicking run or pressing Shift+Enter) will list all files under the input directory\n",
    "\n",
    "import os\n",
    "for dirname, _, filenames in os.walk('/kaggle/input'):\n",
    "    for filename in filenames:\n",
    "        print(os.path.join(dirname, filename))\n",
    "\n",
    "# You can write up to 20GB to the current directory (/kaggle/working/) that gets preserved as output when you create a version using \"Save & Run All\" \n",
    "# You can also write temporary files to /kaggle/temp/, but they won't be saved outside of the current session"
   ]
  },
  {
   "cell_type": "code",
   "execution_count": 2,
   "id": "3fff02ca",
   "metadata": {
    "execution": {
     "iopub.execute_input": "2024-09-11T11:42:23.727549Z",
     "iopub.status.busy": "2024-09-11T11:42:23.726899Z",
     "iopub.status.idle": "2024-09-11T11:42:37.484726Z",
     "shell.execute_reply": "2024-09-11T11:42:37.483479Z"
    },
    "papermill": {
     "duration": 13.766752,
     "end_time": "2024-09-11T11:42:37.487320",
     "exception": false,
     "start_time": "2024-09-11T11:42:23.720568",
     "status": "completed"
    },
    "tags": []
   },
   "outputs": [
    {
     "name": "stdout",
     "output_type": "stream",
     "text": [
      "TensorFlow version: 2.16.1\n"
     ]
    }
   ],
   "source": [
    "import tensorflow as tf\n",
    "print(\"TensorFlow version:\", tf.__version__)\n",
    "\n",
    "keras = tf.keras"
   ]
  },
  {
   "cell_type": "code",
   "execution_count": 3,
   "id": "669ede48",
   "metadata": {
    "execution": {
     "iopub.execute_input": "2024-09-11T11:42:37.499960Z",
     "iopub.status.busy": "2024-09-11T11:42:37.499284Z",
     "iopub.status.idle": "2024-09-11T11:42:38.807613Z",
     "shell.execute_reply": "2024-09-11T11:42:38.806323Z"
    },
    "papermill": {
     "duration": 1.318214,
     "end_time": "2024-09-11T11:42:38.810991",
     "exception": false,
     "start_time": "2024-09-11T11:42:37.492777",
     "status": "completed"
    },
    "tags": []
   },
   "outputs": [],
   "source": [
    "from sklearn.preprocessing import LabelEncoder\n",
    "from tensorflow.keras.preprocessing.text import Tokenizer\n",
    "from tensorflow.keras.preprocessing.sequence import pad_sequences\n",
    "from sklearn.model_selection import train_test_split\n",
    "\n",
    "hyperparams = {\n",
    "    'vocab_size' : 1000,\n",
    "    'dim' : 30,\n",
    "    'max_len' : 515\n",
    "}"
   ]
  },
  {
   "cell_type": "code",
   "execution_count": 4,
   "id": "8b82ca75",
   "metadata": {
    "execution": {
     "iopub.execute_input": "2024-09-11T11:42:38.824184Z",
     "iopub.status.busy": "2024-09-11T11:42:38.823421Z",
     "iopub.status.idle": "2024-09-11T11:42:39.727221Z",
     "shell.execute_reply": "2024-09-11T11:42:39.726016Z"
    },
    "papermill": {
     "duration": 0.913925,
     "end_time": "2024-09-11T11:42:39.729997",
     "exception": false,
     "start_time": "2024-09-11T11:42:38.816072",
     "status": "completed"
    },
    "tags": []
   },
   "outputs": [
    {
     "name": "stdout",
     "output_type": "stream",
     "text": [
      "[nltk_data] Downloading package wordnet to /usr/share/nltk_data...\n",
      "[nltk_data]   Package wordnet is already up-to-date!\n"
     ]
    },
    {
     "data": {
      "text/plain": [
       "True"
      ]
     },
     "execution_count": 4,
     "metadata": {},
     "output_type": "execute_result"
    }
   ],
   "source": [
    "import re\n",
    "import nltk\n",
    "from nltk import pos_tag, word_tokenize\n",
    "from nltk.corpus import stopwords\n",
    "from nltk.stem import WordNetLemmatizer, PorterStemmer\n",
    "nltk.download('wordnet')\n",
    "# ! unzip /usr/share/nltk_data/corpora/wordnet.zip -d /usr/share/nltk_data/corpora/\n",
    "\n"
   ]
  },
  {
   "cell_type": "code",
   "execution_count": 5,
   "id": "4094bacb",
   "metadata": {
    "execution": {
     "iopub.execute_input": "2024-09-11T11:42:39.744130Z",
     "iopub.status.busy": "2024-09-11T11:42:39.743384Z",
     "iopub.status.idle": "2024-09-11T11:42:39.796619Z",
     "shell.execute_reply": "2024-09-11T11:42:39.795276Z"
    },
    "papermill": {
     "duration": 0.064039,
     "end_time": "2024-09-11T11:42:39.799238",
     "exception": false,
     "start_time": "2024-09-11T11:42:39.735199",
     "status": "completed"
    },
    "tags": []
   },
   "outputs": [],
   "source": [
    "data = pd.read_csv('/kaggle/input/sms-spam-collection-dataset/spam.csv', encoding='latin1')\n",
    "data = data.loc[:, ['v1', 'v2']]\n",
    "data = data.rename(columns={'v1': 'label', 'v2': 'message'})"
   ]
  },
  {
   "cell_type": "code",
   "execution_count": 6,
   "id": "342f9338",
   "metadata": {
    "execution": {
     "iopub.execute_input": "2024-09-11T11:42:39.811996Z",
     "iopub.status.busy": "2024-09-11T11:42:39.810757Z",
     "iopub.status.idle": "2024-09-11T11:42:40.463627Z",
     "shell.execute_reply": "2024-09-11T11:42:40.462381Z"
    },
    "papermill": {
     "duration": 0.662416,
     "end_time": "2024-09-11T11:42:40.466820",
     "exception": false,
     "start_time": "2024-09-11T11:42:39.804404",
     "status": "completed"
    },
    "tags": []
   },
   "outputs": [
    {
     "data": {
      "text/plain": [
       "<Axes: xlabel='label', ylabel='count'>"
      ]
     },
     "execution_count": 6,
     "metadata": {},
     "output_type": "execute_result"
    },
    {
     "data": {
      "image/png": "[encoded data removed]",
      "text/plain": [
       "<Figure size 640x480 with 1 Axes>"
      ]
     },
     "metadata": {},
     "output_type": "display_data"
    }
   ],
   "source": [
    "import seaborn as sns\n",
    "sns.countplot(x=data['label'])"
   ]
  },
  {
   "cell_type": "markdown",
   "id": "f3db2966",
   "metadata": {
    "papermill": {
     "duration": 0.005213,
     "end_time": "2024-09-11T11:42:40.478819",
     "exception": false,
     "start_time": "2024-09-11T11:42:40.473606",
     "status": "completed"
    },
    "tags": []
   },
   "source": [
    "### Prepare Y"
   ]
  },
  {
   "cell_type": "code",
   "execution_count": 7,
   "id": "3cc54718",
   "metadata": {
    "execution": {
     "iopub.execute_input": "2024-09-11T11:42:40.493440Z",
     "iopub.status.busy": "2024-09-11T11:42:40.492141Z",
     "iopub.status.idle": "2024-09-11T11:42:40.499949Z",
     "shell.execute_reply": "2024-09-11T11:42:40.498835Z"
    },
    "papermill": {
     "duration": 0.016784,
     "end_time": "2024-09-11T11:42:40.502017",
     "exception": false,
     "start_time": "2024-09-11T11:42:40.485233",
     "status": "completed"
    },
    "tags": []
   },
   "outputs": [],
   "source": [
    "y = data['label']\n",
    "le = LabelEncoder()\n",
    "Y = le.fit_transform(y)"
   ]
  },
  {
   "cell_type": "markdown",
   "id": "30bdf55a",
   "metadata": {
    "papermill": {
     "duration": 0.00522,
     "end_time": "2024-09-11T11:42:40.512797",
     "exception": false,
     "start_time": "2024-09-11T11:42:40.507577",
     "status": "completed"
    },
    "tags": []
   },
   "source": [
    "### Clean X"
   ]
  },
  {
   "cell_type": "code",
   "execution_count": 8,
   "id": "2272fe43",
   "metadata": {
    "execution": {
     "iopub.execute_input": "2024-09-11T11:42:40.526141Z",
     "iopub.status.busy": "2024-09-11T11:42:40.525151Z",
     "iopub.status.idle": "2024-09-11T11:42:40.535266Z",
     "shell.execute_reply": "2024-09-11T11:42:40.534151Z"
    },
    "papermill": {
     "duration": 0.019091,
     "end_time": "2024-09-11T11:42:40.537393",
     "exception": false,
     "start_time": "2024-09-11T11:42:40.518302",
     "status": "completed"
    },
    "tags": []
   },
   "outputs": [],
   "source": [
    "# Initialize lemmatizer and stemmer\n",
    "lemmatizer = WordNetLemmatizer()\n",
    "stemmer = PorterStemmer()\n",
    "\n",
    "def clean_message(message, method):\n",
    "    \n",
    "    def semmatize_msg():\n",
    "        return [stemmer.stem(word) for word in tokens]\n",
    "    \n",
    "    def lemmatize_msg():\n",
    "        return [lemmatizer.lemmatize(word) for word in tokens]\n",
    "    \n",
    "    def lemmatize_pos_msg():\n",
    "        pos_tags = nltk.pos_tag(tokens)\n",
    "        return [\n",
    "            lemmatizer.lemmatize(word, pos='v' if tag.startswith('V') else 'n' if tag.startswith('N') else 'a' if tag.startswith('J') else 'r' if tag.startswith('R') else 'n')\n",
    "            for word, tag in pos_tags\n",
    "        ]\n",
    "    \n",
    "    # Lowercase the message\n",
    "    message = message.lower()\n",
    "    \n",
    "    # Remove everything except letters\n",
    "    message = re.sub(r'[^a-z\\s]', '', message)\n",
    "    \n",
    "    # Tokenize the message\n",
    "    tokens = nltk.word_tokenize(message)\n",
    "    \n",
    "    # Remove single character words and stop words\n",
    "    stop_words = set(stopwords.words('english'))\n",
    "    tokens = [word for word in tokens if len(word) > 1 and word not in stop_words]\n",
    "    \n",
    "    # Apply the selected method for word processing\n",
    "    if method == 'stem':\n",
    "        processed_tokens = semmatize_msg()\n",
    "    elif method == 'lemmatize':\n",
    "        processed_tokens = lemmatize_msg()\n",
    "    elif method == 'lemmatize_pos':\n",
    "        processed_tokens = lemmatize_pos_msg()\n",
    "    else:\n",
    "        raise ValueError(\"Invalid method. Choose from 'stem', 'lemmatize', or 'lemmatize_pos'.\")\n",
    "    \n",
    "    # Join the tokens back into a single string\n",
    "    cleaned_message = ' '.join(processed_tokens)\n",
    "\n",
    "    return cleaned_message"
   ]
  },
  {
   "cell_type": "code",
   "execution_count": 9,
   "id": "63760e21",
   "metadata": {
    "execution": {
     "iopub.execute_input": "2024-09-11T11:42:40.551525Z",
     "iopub.status.busy": "2024-09-11T11:42:40.550207Z",
     "iopub.status.idle": "2024-09-11T11:42:43.683283Z",
     "shell.execute_reply": "2024-09-11T11:42:43.681932Z"
    },
    "papermill": {
     "duration": 3.143026,
     "end_time": "2024-09-11T11:42:43.685996",
     "exception": false,
     "start_time": "2024-09-11T11:42:40.542970",
     "status": "completed"
    },
    "tags": []
   },
   "outputs": [],
   "source": [
    "X = data['message'].apply(lambda x: clean_message(x, method='stem'))"
   ]
  },
  {
   "cell_type": "markdown",
   "id": "1d8fc890",
   "metadata": {
    "papermill": {
     "duration": 0.005342,
     "end_time": "2024-09-11T11:42:43.697125",
     "exception": false,
     "start_time": "2024-09-11T11:42:43.691783",
     "status": "completed"
    },
    "tags": []
   },
   "source": [
    "### Split dataset"
   ]
  },
  {
   "cell_type": "code",
   "execution_count": 10,
   "id": "6311194f",
   "metadata": {
    "execution": {
     "iopub.execute_input": "2024-09-11T11:42:43.710435Z",
     "iopub.status.busy": "2024-09-11T11:42:43.709629Z",
     "iopub.status.idle": "2024-09-11T11:42:43.718901Z",
     "shell.execute_reply": "2024-09-11T11:42:43.717947Z"
    },
    "papermill": {
     "duration": 0.018532,
     "end_time": "2024-09-11T11:42:43.721221",
     "exception": false,
     "start_time": "2024-09-11T11:42:43.702689",
     "status": "completed"
    },
    "tags": []
   },
   "outputs": [],
   "source": [
    "X_train, X_test, y_train, y_test = train_test_split(X, Y, test_size=0.3, random_state=1234)"
   ]
  },
  {
   "cell_type": "markdown",
   "id": "3765e64f",
   "metadata": {
    "papermill": {
     "duration": 0.005385,
     "end_time": "2024-09-11T11:42:43.732463",
     "exception": false,
     "start_time": "2024-09-11T11:42:43.727078",
     "status": "completed"
    },
    "tags": []
   },
   "source": [
    "### Preproces X"
   ]
  },
  {
   "cell_type": "code",
   "execution_count": 11,
   "id": "e83ae4ac",
   "metadata": {
    "execution": {
     "iopub.execute_input": "2024-09-11T11:42:43.745349Z",
     "iopub.status.busy": "2024-09-11T11:42:43.744883Z",
     "iopub.status.idle": "2024-09-11T11:42:43.888484Z",
     "shell.execute_reply": "2024-09-11T11:42:43.887433Z"
    },
    "papermill": {
     "duration": 0.153054,
     "end_time": "2024-09-11T11:42:43.891040",
     "exception": false,
     "start_time": "2024-09-11T11:42:43.737986",
     "status": "completed"
    },
    "tags": []
   },
   "outputs": [],
   "source": [
    "tokenizer = Tokenizer(num_words = hyperparams['vocab_size'])\n",
    "tokenizer.fit_on_texts(X_train)\n",
    "\n",
    "def prepare_input(inputx):\n",
    "    seq_docs = tokenizer.texts_to_sequences(inputx)\n",
    "    padded_docs = pad_sequences(seq_docs, padding='pre', maxlen=hyperparams['max_len'])\n",
    "    return padded_docs\n",
    "\n",
    "X_train = prepare_input(X_train)"
   ]
  },
  {
   "cell_type": "markdown",
   "id": "f3c3ea6a",
   "metadata": {
    "papermill": {
     "duration": 0.005381,
     "end_time": "2024-09-11T11:42:43.902209",
     "exception": false,
     "start_time": "2024-09-11T11:42:43.896828",
     "status": "completed"
    },
    "tags": []
   },
   "source": [
    "### Build Model"
   ]
  },
  {
   "cell_type": "code",
   "execution_count": 12,
   "id": "d6f2c35c",
   "metadata": {
    "execution": {
     "iopub.execute_input": "2024-09-11T11:42:43.915119Z",
     "iopub.status.busy": "2024-09-11T11:42:43.914710Z",
     "iopub.status.idle": "2024-09-11T11:42:44.089116Z",
     "shell.execute_reply": "2024-09-11T11:42:44.088076Z"
    },
    "papermill": {
     "duration": 0.183636,
     "end_time": "2024-09-11T11:42:44.091384",
     "exception": false,
     "start_time": "2024-09-11T11:42:43.907748",
     "status": "completed"
    },
    "tags": []
   },
   "outputs": [
    {
     "name": "stderr",
     "output_type": "stream",
     "text": [
      "/opt/conda/lib/python3.10/site-packages/keras/src/layers/core/embedding.py:93: UserWarning: Do not pass an `input_shape`/`input_dim` argument to a layer. When using Sequential models, prefer using an `Input(shape)` object as the first layer in the model instead.\n",
      "  super().__init__(**kwargs)\n"
     ]
    },
    {
     "data": {
      "text/html": [
       "<pre style=\"white-space:pre;overflow-x:auto;line-height:normal;font-family:Menlo,'DejaVu Sans Mono',consolas,'Courier New',monospace\"><span style=\"font-weight: bold\">Model: \"sequential\"</span>\n",
       "</pre>\n"
      ],
      "text/plain": [
       "\u001b[1mModel: \"sequential\"\u001b[0m\n"
      ]
     },
     "metadata": {},
     "output_type": "display_data"
    },
    {
     "data": {
      "text/html": [
       "<pre style=\"white-space:pre;overflow-x:auto;line-height:normal;font-family:Menlo,'DejaVu Sans Mono',consolas,'Courier New',monospace\">┏━━━━━━━━━━━━━━━━━━━━━━━━━━━━━━━━━┳━━━━━━━━━━━━━━━━━━━━━━━━┳━━━━━━━━━━━━━━━┓\n",
       "┃<span style=\"font-weight: bold\"> Layer (type)                    </span>┃<span style=\"font-weight: bold\"> Output Shape           </span>┃<span style=\"font-weight: bold\">       Param # </span>┃\n",
       "┡━━━━━━━━━━━━━━━━━━━━━━━━━━━━━━━━━╇━━━━━━━━━━━━━━━━━━━━━━━━╇━━━━━━━━━━━━━━━┩\n",
       "│ embedding (<span style=\"color: #0087ff; text-decoration-color: #0087ff\">Embedding</span>)           │ (<span style=\"color: #00d7ff; text-decoration-color: #00d7ff\">None</span>, <span style=\"color: #00af00; text-decoration-color: #00af00\">515</span>, <span style=\"color: #00af00; text-decoration-color: #00af00\">30</span>)        │        <span style=\"color: #00af00; text-decoration-color: #00af00\">30,000</span> │\n",
       "├─────────────────────────────────┼────────────────────────┼───────────────┤\n",
       "│ lstm (<span style=\"color: #0087ff; text-decoration-color: #0087ff\">LSTM</span>)                     │ (<span style=\"color: #00d7ff; text-decoration-color: #00d7ff\">None</span>, <span style=\"color: #00af00; text-decoration-color: #00af00\">256</span>)            │       <span style=\"color: #00af00; text-decoration-color: #00af00\">293,888</span> │\n",
       "├─────────────────────────────────┼────────────────────────┼───────────────┤\n",
       "│ dense (<span style=\"color: #0087ff; text-decoration-color: #0087ff\">Dense</span>)                   │ (<span style=\"color: #00d7ff; text-decoration-color: #00d7ff\">None</span>, <span style=\"color: #00af00; text-decoration-color: #00af00\">1</span>)              │           <span style=\"color: #00af00; text-decoration-color: #00af00\">257</span> │\n",
       "└─────────────────────────────────┴────────────────────────┴───────────────┘\n",
       "</pre>\n"
      ],
      "text/plain": [
       "┏━━━━━━━━━━━━━━━━━━━━━━━━━━━━━━━━━┳━━━━━━━━━━━━━━━━━━━━━━━━┳━━━━━━━━━━━━━━━┓\n",
       "┃\u001b[1m \u001b[0m\u001b[1mLayer (type)                   \u001b[0m\u001b[1m \u001b[0m┃\u001b[1m \u001b[0m\u001b[1mOutput Shape          \u001b[0m\u001b[1m \u001b[0m┃\u001b[1m \u001b[0m\u001b[1m      Param #\u001b[0m\u001b[1m \u001b[0m┃\n",
       "┡━━━━━━━━━━━━━━━━━━━━━━━━━━━━━━━━━╇━━━━━━━━━━━━━━━━━━━━━━━━╇━━━━━━━━━━━━━━━┩\n",
       "│ embedding (\u001b[38;5;33mEmbedding\u001b[0m)           │ (\u001b[38;5;45mNone\u001b[0m, \u001b[38;5;34m515\u001b[0m, \u001b[38;5;34m30\u001b[0m)        │        \u001b[38;5;34m30,000\u001b[0m │\n",
       "├─────────────────────────────────┼────────────────────────┼───────────────┤\n",
       "│ lstm (\u001b[38;5;33mLSTM\u001b[0m)                     │ (\u001b[38;5;45mNone\u001b[0m, \u001b[38;5;34m256\u001b[0m)            │       \u001b[38;5;34m293,888\u001b[0m │\n",
       "├─────────────────────────────────┼────────────────────────┼───────────────┤\n",
       "│ dense (\u001b[38;5;33mDense\u001b[0m)                   │ (\u001b[38;5;45mNone\u001b[0m, \u001b[38;5;34m1\u001b[0m)              │           \u001b[38;5;34m257\u001b[0m │\n",
       "└─────────────────────────────────┴────────────────────────┴───────────────┘\n"
      ]
     },
     "metadata": {},
     "output_type": "display_data"
    },
    {
     "data": {
      "text/html": [
       "<pre style=\"white-space:pre;overflow-x:auto;line-height:normal;font-family:Menlo,'DejaVu Sans Mono',consolas,'Courier New',monospace\"><span style=\"font-weight: bold\"> Total params: </span><span style=\"color: #00af00; text-decoration-color: #00af00\">324,145</span> (1.24 MB)\n",
       "</pre>\n"
      ],
      "text/plain": [
       "\u001b[1m Total params: \u001b[0m\u001b[38;5;34m324,145\u001b[0m (1.24 MB)\n"
      ]
     },
     "metadata": {},
     "output_type": "display_data"
    },
    {
     "data": {
      "text/html": [
       "<pre style=\"white-space:pre;overflow-x:auto;line-height:normal;font-family:Menlo,'DejaVu Sans Mono',consolas,'Courier New',monospace\"><span style=\"font-weight: bold\"> Trainable params: </span><span style=\"color: #00af00; text-decoration-color: #00af00\">324,145</span> (1.24 MB)\n",
       "</pre>\n"
      ],
      "text/plain": [
       "\u001b[1m Trainable params: \u001b[0m\u001b[38;5;34m324,145\u001b[0m (1.24 MB)\n"
      ]
     },
     "metadata": {},
     "output_type": "display_data"
    },
    {
     "data": {
      "text/html": [
       "<pre style=\"white-space:pre;overflow-x:auto;line-height:normal;font-family:Menlo,'DejaVu Sans Mono',consolas,'Courier New',monospace\"><span style=\"font-weight: bold\"> Non-trainable params: </span><span style=\"color: #00af00; text-decoration-color: #00af00\">0</span> (0.00 B)\n",
       "</pre>\n"
      ],
      "text/plain": [
       "\u001b[1m Non-trainable params: \u001b[0m\u001b[38;5;34m0\u001b[0m (0.00 B)\n"
      ]
     },
     "metadata": {},
     "output_type": "display_data"
    },
    {
     "name": "stdout",
     "output_type": "stream",
     "text": [
      "None\n"
     ]
    }
   ],
   "source": [
    "def build_model():\n",
    "    model = tf.keras.models.Sequential([\n",
    "            keras.layers.Embedding(hyperparams['vocab_size'], hyperparams['dim'], input_shape=(hyperparams['max_len'], )),\n",
    "            keras.layers.LSTM(256),\n",
    "            keras.layers.Dense(1, activation='sigmoid')\n",
    "        ])\n",
    "\n",
    "    model.compile(optimizer='adam',\n",
    "                  loss='mse',\n",
    "                  metrics=['accuracy'])\n",
    "    print(model.summary())\n",
    "    return model\n",
    "\n",
    "\n",
    "model = build_model()"
   ]
  },
  {
   "cell_type": "markdown",
   "id": "cef55bb8",
   "metadata": {
    "papermill": {
     "duration": 0.006362,
     "end_time": "2024-09-11T11:42:44.104478",
     "exception": false,
     "start_time": "2024-09-11T11:42:44.098116",
     "status": "completed"
    },
    "tags": []
   },
   "source": [
    "### Train Model"
   ]
  },
  {
   "cell_type": "code",
   "execution_count": 13,
   "id": "f443f577",
   "metadata": {
    "execution": {
     "iopub.execute_input": "2024-09-11T11:42:44.119787Z",
     "iopub.status.busy": "2024-09-11T11:42:44.119355Z",
     "iopub.status.idle": "2024-09-11T11:51:16.305334Z",
     "shell.execute_reply": "2024-09-11T11:51:16.304282Z"
    },
    "papermill": {
     "duration": 512.196415,
     "end_time": "2024-09-11T11:51:16.307888",
     "exception": false,
     "start_time": "2024-09-11T11:42:44.111473",
     "status": "completed"
    },
    "tags": []
   },
   "outputs": [
    {
     "name": "stdout",
     "output_type": "stream",
     "text": [
      "Epoch 1/10\n",
      "\u001b[1m22/22\u001b[0m \u001b[32m━━━━━━━━━━━━━━━━━━━━\u001b[0m\u001b[37m\u001b[0m \u001b[1m50s\u001b[0m 2s/step - accuracy: 0.8530 - loss: 0.1619 - val_accuracy: 0.8726 - val_loss: 0.0900\n",
      "Epoch 2/10\n",
      "\u001b[1m22/22\u001b[0m \u001b[32m━━━━━━━━━━━━━━━━━━━━\u001b[0m\u001b[37m\u001b[0m \u001b[1m47s\u001b[0m 2s/step - accuracy: 0.8924 - loss: 0.0807 - val_accuracy: 0.9462 - val_loss: 0.0499\n",
      "Epoch 3/10\n",
      "\u001b[1m22/22\u001b[0m \u001b[32m━━━━━━━━━━━━━━━━━━━━\u001b[0m\u001b[37m\u001b[0m \u001b[1m47s\u001b[0m 2s/step - accuracy: 0.9709 - loss: 0.0318 - val_accuracy: 0.9650 - val_loss: 0.0289\n",
      "Epoch 4/10\n",
      "\u001b[1m22/22\u001b[0m \u001b[32m━━━━━━━━━━━━━━━━━━━━\u001b[0m\u001b[37m\u001b[0m \u001b[1m47s\u001b[0m 2s/step - accuracy: 0.9674 - loss: 0.0290 - val_accuracy: 0.9718 - val_loss: 0.0236\n",
      "Epoch 5/10\n",
      "\u001b[1m22/22\u001b[0m \u001b[32m━━━━━━━━━━━━━━━━━━━━\u001b[0m\u001b[37m\u001b[0m \u001b[1m47s\u001b[0m 2s/step - accuracy: 0.9802 - loss: 0.0180 - val_accuracy: 0.9744 - val_loss: 0.0215\n",
      "Epoch 6/10\n",
      "\u001b[1m22/22\u001b[0m \u001b[32m━━━━━━━━━━━━━━━━━━━━\u001b[0m\u001b[37m\u001b[0m \u001b[1m48s\u001b[0m 2s/step - accuracy: 0.9860 - loss: 0.0121 - val_accuracy: 0.9744 - val_loss: 0.0198\n",
      "Epoch 7/10\n",
      "\u001b[1m22/22\u001b[0m \u001b[32m━━━━━━━━━━━━━━━━━━━━\u001b[0m\u001b[37m\u001b[0m \u001b[1m47s\u001b[0m 2s/step - accuracy: 0.9873 - loss: 0.0118 - val_accuracy: 0.9744 - val_loss: 0.0194\n",
      "Epoch 8/10\n",
      "\u001b[1m22/22\u001b[0m \u001b[32m━━━━━━━━━━━━━━━━━━━━\u001b[0m\u001b[37m\u001b[0m \u001b[1m48s\u001b[0m 2s/step - accuracy: 0.9892 - loss: 0.0102 - val_accuracy: 0.9718 - val_loss: 0.0203\n",
      "Epoch 9/10\n",
      "\u001b[1m22/22\u001b[0m \u001b[32m━━━━━━━━━━━━━━━━━━━━\u001b[0m\u001b[37m\u001b[0m \u001b[1m49s\u001b[0m 2s/step - accuracy: 0.9924 - loss: 0.0070 - val_accuracy: 0.9726 - val_loss: 0.0197\n",
      "Epoch 10/10\n",
      "\u001b[1m22/22\u001b[0m \u001b[32m━━━━━━━━━━━━━━━━━━━━\u001b[0m\u001b[37m\u001b[0m \u001b[1m80s\u001b[0m 2s/step - accuracy: 0.9923 - loss: 0.0069 - val_accuracy: 0.9726 - val_loss: 0.0195\n"
     ]
    },
    {
     "data": {
      "text/plain": [
       "<keras.src.callbacks.history.History at 0x7f5967753580>"
      ]
     },
     "execution_count": 13,
     "metadata": {},
     "output_type": "execute_result"
    }
   ],
   "source": [
    "model.fit(X_train, y_train, batch_size=128, epochs=10, validation_split=0.3)"
   ]
  },
  {
   "cell_type": "markdown",
   "id": "3a785e8c",
   "metadata": {
    "papermill": {
     "duration": 0.023944,
     "end_time": "2024-09-11T11:51:16.353780",
     "exception": false,
     "start_time": "2024-09-11T11:51:16.329836",
     "status": "completed"
    },
    "tags": []
   },
   "source": [
    "### Evaluate Model"
   ]
  },
  {
   "cell_type": "code",
   "execution_count": 14,
   "id": "304c4171",
   "metadata": {
    "execution": {
     "iopub.execute_input": "2024-09-11T11:51:16.400709Z",
     "iopub.status.busy": "2024-09-11T11:51:16.400260Z",
     "iopub.status.idle": "2024-09-11T11:51:34.046912Z",
     "shell.execute_reply": "2024-09-11T11:51:34.045721Z"
    },
    "papermill": {
     "duration": 17.673303,
     "end_time": "2024-09-11T11:51:34.049257",
     "exception": false,
     "start_time": "2024-09-11T11:51:16.375954",
     "status": "completed"
    },
    "tags": []
   },
   "outputs": [
    {
     "name": "stdout",
     "output_type": "stream",
     "text": [
      "\u001b[1m53/53\u001b[0m \u001b[32m━━━━━━━━━━━━━━━━━━━━\u001b[0m\u001b[37m\u001b[0m \u001b[1m18s\u001b[0m 331ms/step - accuracy: 0.9803 - loss: 0.0172\n"
     ]
    },
    {
     "data": {
      "text/plain": [
       "[0.01844990812242031, 0.9778708219528198]"
      ]
     },
     "execution_count": 14,
     "metadata": {},
     "output_type": "execute_result"
    }
   ],
   "source": [
    "X_test = prepare_input(X_test)\n",
    "acc = model.evaluate(X_test, y_test)\n",
    "acc"
   ]
  },
  {
   "cell_type": "code",
   "execution_count": null,
   "id": "632b2e70",
   "metadata": {
    "papermill": {
     "duration": 0.025533,
     "end_time": "2024-09-11T11:51:34.100653",
     "exception": false,
     "start_time": "2024-09-11T11:51:34.075120",
     "status": "completed"
    },
    "tags": []
   },
   "outputs": [],
   "source": []
  }
 ],
 "metadata": {
  "kaggle": {
   "accelerator": "none",
   "dataSources": [
    {
     "datasetId": 483,
     "sourceId": 982,
     "sourceType": "datasetVersion"
    }
   ],
   "dockerImageVersionId": 30761,
   "isGpuEnabled": false,
   "isInternetEnabled": true,
   "language": "python",
   "sourceType": "notebook"
  },
  "kernelspec": {
   "display_name": "Python 3",
   "language": "python",
   "name": "python3"
  },
  "language_info": {
   "codemirror_mode": {
    "name": "ipython",
    "version": 3
   },
   "file_extension": ".py",
   "mimetype": "text/x-python",
   "name": "python",
   "nbconvert_exporter": "python",
   "pygments_lexer": "ipython3",
   "version": "3.10.14"
  },
  "papermill": {
   "default_parameters": {},
   "duration": 555.305311,
   "end_time": "2024-09-11T11:51:35.853231",
   "environment_variables": {},
   "exception": null,
   "input_path": "__notebook__.ipynb",
   "output_path": "__notebook__.ipynb",
   "parameters": {},
   "start_time": "2024-09-11T11:42:20.547920",
   "version": "2.6.0"
  }
 },
 "nbformat": 4,
 "nbformat_minor": 5
}
