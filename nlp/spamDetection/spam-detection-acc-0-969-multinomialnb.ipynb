{
 "cells": [
  {
   "cell_type": "code",
   "execution_count": 1,
   "id": "073cd4c2",
   "metadata": {
    "execution": {
     "iopub.execute_input": "2024-09-11T12:01:51.364532Z",
     "iopub.status.busy": "2024-09-11T12:01:51.363882Z",
     "iopub.status.idle": "2024-09-11T12:01:51.893830Z",
     "shell.execute_reply": "2024-09-11T12:01:51.892482Z"
    },
    "papermill": {
     "duration": 0.541215,
     "end_time": "2024-09-11T12:01:51.896807",
     "exception": false,
     "start_time": "2024-09-11T12:01:51.355592",
     "status": "completed"
    },
    "tags": []
   },
   "outputs": [
    {
     "name": "stdout",
     "output_type": "stream",
     "text": [
      "/kaggle/input/sms-spam-collection-dataset/spam.csv\n"
     ]
    }
   ],
   "source": [
    "\n",
    "\n",
    "# This Python 3 environment comes with many helpful analytics libraries installed\n",
    "# It is defined by the kaggle/python Docker image: https://github.com/kaggle/docker-python\n",
    "# For example, here's several helpful packages to load\n",
    "\n",
    "import numpy as np # linear algebra\n",
    "import pandas as pd # data processing, CSV file I/O (e.g. pd.read_csv)\n",
    "\n",
    "# Input data files are available in the read-only \"../input/\" directory\n",
    "# For example, running this (by clicking run or pressing Shift+Enter) will list all files under the input directory\n",
    "\n",
    "import os\n",
    "for dirname, _, filenames in os.walk('/kaggle/input'):\n",
    "    for filename in filenames:\n",
    "        print(os.path.join(dirname, filename))\n",
    "\n",
    "# You can write up to 20GB to the current directory (/kaggle/working/) that gets preserved as output when you create a version using \"Save & Run All\" \n",
    "# You can also write temporary files to /kaggle/temp/, but they won't be saved outside of the current session"
   ]
  },
  {
   "cell_type": "code",
   "execution_count": 2,
   "id": "fd9ae70d",
   "metadata": {
    "execution": {
     "iopub.execute_input": "2024-09-11T12:01:51.910732Z",
     "iopub.status.busy": "2024-09-11T12:01:51.910016Z",
     "iopub.status.idle": "2024-09-11T12:01:51.980665Z",
     "shell.execute_reply": "2024-09-11T12:01:51.979308Z"
    },
    "papermill": {
     "duration": 0.081325,
     "end_time": "2024-09-11T12:01:51.984004",
     "exception": false,
     "start_time": "2024-09-11T12:01:51.902679",
     "status": "completed"
    },
    "tags": []
   },
   "outputs": [
    {
     "name": "stderr",
     "output_type": "stream",
     "text": [
      "/tmp/ipykernel_18/3492939006.py:4: FutureWarning: A value is trying to be set on a copy of a DataFrame or Series through chained assignment using an inplace method.\n",
      "The behavior will change in pandas 3.0. This inplace method will never work because the intermediate object on which we are setting values always behaves as a copy.\n",
      "\n",
      "For example, when doing 'df[col].method(value, inplace=True)', try using 'df.method({col: value}, inplace=True)' or df[col] = df[col].method(value) instead, to perform the operation inplace on the original object.\n",
      "\n",
      "\n",
      "  data['label'].replace({'ham': 1, 'spam': 0}, inplace=True)\n",
      "/tmp/ipykernel_18/3492939006.py:4: FutureWarning: Downcasting behavior in `replace` is deprecated and will be removed in a future version. To retain the old behavior, explicitly call `result.infer_objects(copy=False)`. To opt-in to the future behavior, set `pd.set_option('future.no_silent_downcasting', True)`\n",
      "  data['label'].replace({'ham': 1, 'spam': 0}, inplace=True)\n"
     ]
    }
   ],
   "source": [
    "data = pd.read_csv(\"/kaggle/input/sms-spam-collection-dataset/spam.csv\", encoding='latin1')\n",
    "data = data.loc[:, ['v1', 'v2']]\n",
    "data = data.rename(columns={'v1': 'label', 'v2': 'message'})\n",
    "data['label'].replace({'ham': 1, 'spam': 0}, inplace=True)"
   ]
  },
  {
   "cell_type": "code",
   "execution_count": 3,
   "id": "9dc8cdd3",
   "metadata": {
    "execution": {
     "iopub.execute_input": "2024-09-11T12:01:51.997940Z",
     "iopub.status.busy": "2024-09-11T12:01:51.997446Z",
     "iopub.status.idle": "2024-09-11T12:01:54.093117Z",
     "shell.execute_reply": "2024-09-11T12:01:54.091811Z"
    },
    "papermill": {
     "duration": 2.106061,
     "end_time": "2024-09-11T12:01:54.096009",
     "exception": false,
     "start_time": "2024-09-11T12:01:51.989948",
     "status": "completed"
    },
    "tags": []
   },
   "outputs": [
    {
     "data": {
      "text/plain": [
       "<Axes: xlabel='label', ylabel='count'>"
      ]
     },
     "execution_count": 3,
     "metadata": {},
     "output_type": "execute_result"
    },
    {
     "data": {
      "image/png": "[encoded data removed]",
      "text/plain": [
       "<Figure size 640x480 with 1 Axes>"
      ]
     },
     "metadata": {},
     "output_type": "display_data"
    }
   ],
   "source": [
    "import seaborn as sns \n",
    "sns.countplot(x=data['label'])"
   ]
  },
  {
   "cell_type": "code",
   "execution_count": 4,
   "id": "e1a89bd6",
   "metadata": {
    "execution": {
     "iopub.execute_input": "2024-09-11T12:01:54.110956Z",
     "iopub.status.busy": "2024-09-11T12:01:54.110190Z",
     "iopub.status.idle": "2024-09-11T12:01:56.760052Z",
     "shell.execute_reply": "2024-09-11T12:01:56.758104Z"
    },
    "papermill": {
     "duration": 2.660917,
     "end_time": "2024-09-11T12:01:56.763166",
     "exception": false,
     "start_time": "2024-09-11T12:01:54.102249",
     "status": "completed"
    },
    "tags": []
   },
   "outputs": [
    {
     "name": "stdout",
     "output_type": "stream",
     "text": [
      "[nltk_data] Downloading package wordnet to /usr/share/nltk_data...\n",
      "[nltk_data]   Package wordnet is already up-to-date!\n",
      "Archive:  /usr/share/nltk_data/corpora/wordnet.zip\r\n",
      "   creating: /usr/share/nltk_data/corpora/wordnet/\r\n",
      "  inflating: /usr/share/nltk_data/corpora/wordnet/lexnames  \r\n",
      "  inflating: /usr/share/nltk_data/corpora/wordnet/data.verb  \r\n",
      "  inflating: /usr/share/nltk_data/corpora/wordnet/index.adv  \r\n",
      "  inflating: /usr/share/nltk_data/corpora/wordnet/adv.exc  \r\n",
      "  inflating: /usr/share/nltk_data/corpora/wordnet/index.verb  \r\n",
      "  inflating: /usr/share/nltk_data/corpora/wordnet/cntlist.rev  \r\n",
      "  inflating: /usr/share/nltk_data/corpora/wordnet/data.adj  \r\n",
      "  inflating: /usr/share/nltk_data/corpora/wordnet/index.adj  \r\n",
      "  inflating: /usr/share/nltk_data/corpora/wordnet/LICENSE  \r\n",
      "  inflating: /usr/share/nltk_data/corpora/wordnet/citation.bib  \r\n",
      "  inflating: /usr/share/nltk_data/corpora/wordnet/noun.exc  \r\n",
      "  inflating: /usr/share/nltk_data/corpora/wordnet/verb.exc  \r\n",
      "  inflating: /usr/share/nltk_data/corpora/wordnet/README  \r\n",
      "  inflating: /usr/share/nltk_data/corpora/wordnet/index.sense  \r\n",
      "  inflating: /usr/share/nltk_data/corpora/wordnet/data.noun  \r\n",
      "  inflating: /usr/share/nltk_data/corpora/wordnet/data.adv  \r\n",
      "  inflating: /usr/share/nltk_data/corpora/wordnet/index.noun  \r\n",
      "  inflating: /usr/share/nltk_data/corpora/wordnet/adj.exc  \r\n"
     ]
    }
   ],
   "source": [
    "import re\n",
    "import nltk\n",
    "from nltk import pos_tag, word_tokenize\n",
    "from nltk.corpus import stopwords\n",
    "from nltk.stem import WordNetLemmatizer, PorterStemmer\n",
    "nltk.download('wordnet')\n",
    "! unzip /usr/share/nltk_data/corpora/wordnet.zip -d /usr/share/nltk_data/corpora/\n",
    "\n",
    "from sklearn.feature_extraction.text import CountVectorizer, TfidfVectorizer\n",
    "from sklearn.model_selection import train_test_split\n",
    "from sklearn.naive_bayes import MultinomialNB\n",
    "from sklearn.metrics import confusion_matrix, accuracy_score, precision_score, recall_score"
   ]
  },
  {
   "cell_type": "markdown",
   "id": "25b59c25",
   "metadata": {
    "papermill": {
     "duration": 0.007284,
     "end_time": "2024-09-11T12:01:56.777771",
     "exception": false,
     "start_time": "2024-09-11T12:01:56.770487",
     "status": "completed"
    },
    "tags": []
   },
   "source": [
    "### Clean messages\n",
    "\n",
    "methods:\n",
    "- Stemmer: stem\n",
    "- WordNetLemmatizer: lemmatize\n",
    "- WordNetLemmatizer with POS: lemmatize_pos"
   ]
  },
  {
   "cell_type": "code",
   "execution_count": 5,
   "id": "183f37ce",
   "metadata": {
    "execution": {
     "iopub.execute_input": "2024-09-11T12:01:56.794608Z",
     "iopub.status.busy": "2024-09-11T12:01:56.794012Z",
     "iopub.status.idle": "2024-09-11T12:01:56.810003Z",
     "shell.execute_reply": "2024-09-11T12:01:56.808438Z"
    },
    "papermill": {
     "duration": 0.028488,
     "end_time": "2024-09-11T12:01:56.813242",
     "exception": false,
     "start_time": "2024-09-11T12:01:56.784754",
     "status": "completed"
    },
    "tags": []
   },
   "outputs": [],
   "source": [
    "# Initialize lemmatizer and stemmer\n",
    "lemmatizer = WordNetLemmatizer()\n",
    "stemmer = PorterStemmer()\n",
    "\n",
    "def clean_message(message, method):\n",
    "    \n",
    "    def semmatize_msg():\n",
    "        return [stemmer.stem(word) for word in tokens]\n",
    "    \n",
    "    def lemmatize_msg():\n",
    "        return [lemmatizer.lemmatize(word) for word in tokens]\n",
    "    \n",
    "    def lemmatize_pos_msg():\n",
    "        pos_tags = nltk.pos_tag(tokens)\n",
    "        return [\n",
    "            lemmatizer.lemmatize(word, pos='v' if tag.startswith('V') else 'n' if tag.startswith('N') else 'a' if tag.startswith('J') else 'r' if tag.startswith('R') else 'n')\n",
    "            for word, tag in pos_tags\n",
    "        ]\n",
    "    \n",
    "    # Lowercase the message\n",
    "    message = message.lower()\n",
    "    \n",
    "    # Remove everything except letters\n",
    "    message = re.sub(r'[^a-z\\s]', '', message)\n",
    "    \n",
    "    # Tokenize the message\n",
    "    tokens = nltk.word_tokenize(message)\n",
    "    \n",
    "    # Remove single character words and stop words\n",
    "    stop_words = set(stopwords.words('english'))\n",
    "    tokens = [word for word in tokens if len(word) > 1 and word not in stop_words]\n",
    "    \n",
    "    # Apply the selected method for word processing\n",
    "    if method == 'stem':\n",
    "        processed_tokens = semmatize_msg()\n",
    "    elif method == 'lemmatize':\n",
    "        processed_tokens = lemmatize_msg()\n",
    "    elif method == 'lemmatize_pos':\n",
    "        processed_tokens = lemmatize_pos_msg()\n",
    "    else:\n",
    "        raise ValueError(\"Invalid method. Choose from 'stem', 'lemmatize', or 'lemmatize_pos'.\")\n",
    "    \n",
    "    # Join the tokens back into a single string\n",
    "    cleaned_message = ' '.join(processed_tokens)\n",
    "\n",
    "    return cleaned_message"
   ]
  },
  {
   "cell_type": "code",
   "execution_count": 6,
   "id": "464f476d",
   "metadata": {
    "execution": {
     "iopub.execute_input": "2024-09-11T12:01:56.829614Z",
     "iopub.status.busy": "2024-09-11T12:01:56.829065Z",
     "iopub.status.idle": "2024-09-11T12:01:56.837015Z",
     "shell.execute_reply": "2024-09-11T12:01:56.835446Z"
    },
    "papermill": {
     "duration": 0.019468,
     "end_time": "2024-09-11T12:01:56.839833",
     "exception": false,
     "start_time": "2024-09-11T12:01:56.820365",
     "status": "completed"
    },
    "tags": []
   },
   "outputs": [],
   "source": [
    "# Function to apply cleaning on a DataFrame column\n",
    "def clean_messages_column(df, column_name, method='lemmatize'):\n",
    "    # Apply the cleaning function on the specified column\n",
    "    df[column_name] = df[column_name].apply(lambda x: clean_message(x, method))\n",
    "    \n",
    "    # Create the corpus as a list\n",
    "    corpus = df[column_name].tolist()\n",
    "    return corpus"
   ]
  },
  {
   "cell_type": "markdown",
   "id": "9ce42b0b",
   "metadata": {
    "papermill": {
     "duration": 0.006777,
     "end_time": "2024-09-11T12:01:56.853441",
     "exception": false,
     "start_time": "2024-09-11T12:01:56.846664",
     "status": "completed"
    },
    "tags": []
   },
   "source": [
    "### Create Word Vector\n",
    "\n",
    "- bow\n",
    "- tf-idf\n",
    "- Embedding"
   ]
  },
  {
   "cell_type": "code",
   "execution_count": 7,
   "id": "4f329807",
   "metadata": {
    "execution": {
     "iopub.execute_input": "2024-09-11T12:01:56.869911Z",
     "iopub.status.busy": "2024-09-11T12:01:56.868532Z",
     "iopub.status.idle": "2024-09-11T12:01:56.876930Z",
     "shell.execute_reply": "2024-09-11T12:01:56.875319Z"
    },
    "papermill": {
     "duration": 0.019612,
     "end_time": "2024-09-11T12:01:56.879684",
     "exception": false,
     "start_time": "2024-09-11T12:01:56.860072",
     "status": "completed"
    },
    "tags": []
   },
   "outputs": [],
   "source": [
    "def word_vector(corpus, vector_method='bow'):\n",
    "    if vector_method == 'bow':\n",
    "        vectorizer = CountVectorizer()\n",
    "    elif vector_method == 'tfidf':\n",
    "        vectorizer = TfidfVectorizer()\n",
    "    else:\n",
    "        raise ValueError(\"Invalid vector method. Choose from 'bow' or 'tfidf'.\")\n",
    "    \n",
    "    X = vectorizer.fit_transform(corpus)\n",
    "    y = data['label']  # Assuming your DataFrame has a column 'label' for classification\n",
    "\n",
    "    return X, y"
   ]
  },
  {
   "cell_type": "code",
   "execution_count": 8,
   "id": "432e6f09",
   "metadata": {
    "execution": {
     "iopub.execute_input": "2024-09-11T12:01:56.895240Z",
     "iopub.status.busy": "2024-09-11T12:01:56.894730Z",
     "iopub.status.idle": "2024-09-11T12:01:56.907133Z",
     "shell.execute_reply": "2024-09-11T12:01:56.904986Z"
    },
    "papermill": {
     "duration": 0.024471,
     "end_time": "2024-09-11T12:01:56.910887",
     "exception": false,
     "start_time": "2024-09-11T12:01:56.886416",
     "status": "completed"
    },
    "tags": []
   },
   "outputs": [],
   "source": [
    "def prediction(method = 'stem', vector_method='bow'):\n",
    "    \n",
    "    ## Prepare Data \n",
    "    corpus = clean_messages_column(data, 'message', method=method)\n",
    "    X, y = word_vector(corpus, vector_method=vector_method)\n",
    "    X_train, X_test, y_train, y_test = train_test_split(X, y, test_size=0.3, random_state=1234)\n",
    "    \n",
    "    ## Train\n",
    "    cls = MultinomialNB()\n",
    "    cls.fit(X_train, y_train)\n",
    "    \n",
    "    ## Test\n",
    "    y_pred = cls.predict(X_test)\n",
    "    \n",
    "    ## Evaluate\n",
    "    cm = confusion_matrix(y_test, y_pred)\n",
    "    acc = accuracy_score(y_test, y_pred)\n",
    "    pre = precision_score(y_test, y_pred)\n",
    "    rec = recall_score(y_test, y_pred)\n",
    "\n",
    "    print(f\"Confusion Matrix for predicting Spam Emails using {method} and {vector_method}: \\n{cm}\\nAccuracy: {acc} \\nPrecision: {pre} \\nRecall: {rec} \\n\")\n",
    "    return {'method': method, 'vector_method': vector_method, 'accuracy': acc, 'precision': pre, 'recall': rec}\n"
   ]
  },
  {
   "cell_type": "code",
   "execution_count": 9,
   "id": "f59c71de",
   "metadata": {
    "execution": {
     "iopub.execute_input": "2024-09-11T12:01:56.939084Z",
     "iopub.status.busy": "2024-09-11T12:01:56.937261Z",
     "iopub.status.idle": "2024-09-11T12:01:56.946749Z",
     "shell.execute_reply": "2024-09-11T12:01:56.945235Z"
    },
    "papermill": {
     "duration": 0.023396,
     "end_time": "2024-09-11T12:01:56.949750",
     "exception": false,
     "start_time": "2024-09-11T12:01:56.926354",
     "status": "completed"
    },
    "tags": []
   },
   "outputs": [],
   "source": [
    "def compare_methods():\n",
    "    methods = ['stem', 'lemmatize', 'lemmatize_pos']\n",
    "    vector_methods = ['bow', 'tfidf']\n",
    "    results = []\n",
    "\n",
    "    # Run prediction for each method and store results\n",
    "    for method in methods:\n",
    "        for vector_method in vector_methods:\n",
    "            result = prediction(method=method, vector_method=vector_method)\n",
    "            results.append(result)\n",
    "\n",
    "\n",
    "    # Create a DataFrame to display the results\n",
    "    results_df = pd.DataFrame(results)\n",
    "    print(\"\\nComparison Report:\")\n",
    "    print(results_df)\n",
    "\n",
    "    return results_df"
   ]
  },
  {
   "cell_type": "code",
   "execution_count": 10,
   "id": "5fcc09c4",
   "metadata": {
    "execution": {
     "iopub.execute_input": "2024-09-11T12:01:56.969342Z",
     "iopub.status.busy": "2024-09-11T12:01:56.968747Z",
     "iopub.status.idle": "2024-09-11T12:02:31.176777Z",
     "shell.execute_reply": "2024-09-11T12:02:31.175417Z"
    },
    "papermill": {
     "duration": 34.228193,
     "end_time": "2024-09-11T12:02:31.186187",
     "exception": false,
     "start_time": "2024-09-11T12:01:56.957994",
     "status": "completed"
    },
    "tags": []
   },
   "outputs": [
    {
     "name": "stdout",
     "output_type": "stream",
     "text": [
      "Confusion Matrix for predicting Spam Emails using stem and bow: \n",
      "[[ 221   17]\n",
      " [  35 1399]]\n",
      "Accuracy: 0.9688995215311005 \n",
      "Precision: 0.9879943502824858 \n",
      "Recall: 0.9755927475592747 \n",
      "\n",
      "Confusion Matrix for predicting Spam Emails using stem and tfidf: \n",
      "[[ 162   76]\n",
      " [   0 1434]]\n",
      "Accuracy: 0.9545454545454546 \n",
      "Precision: 0.9496688741721855 \n",
      "Recall: 1.0 \n",
      "\n",
      "Confusion Matrix for predicting Spam Emails using lemmatize and bow: \n",
      "[[ 221   17]\n",
      " [  35 1399]]\n",
      "Accuracy: 0.9688995215311005 \n",
      "Precision: 0.9879943502824858 \n",
      "Recall: 0.9755927475592747 \n",
      "\n",
      "Confusion Matrix for predicting Spam Emails using lemmatize and tfidf: \n",
      "[[ 162   76]\n",
      " [   0 1434]]\n",
      "Accuracy: 0.9545454545454546 \n",
      "Precision: 0.9496688741721855 \n",
      "Recall: 1.0 \n",
      "\n",
      "Confusion Matrix for predicting Spam Emails using lemmatize_pos and bow: \n",
      "[[ 220   18]\n",
      " [  33 1401]]\n",
      "Accuracy: 0.9694976076555024 \n",
      "Precision: 0.9873150105708245 \n",
      "Recall: 0.9769874476987448 \n",
      "\n",
      "Confusion Matrix for predicting Spam Emails using lemmatize_pos and tfidf: \n",
      "[[ 162   76]\n",
      " [   0 1434]]\n",
      "Accuracy: 0.9545454545454546 \n",
      "Precision: 0.9496688741721855 \n",
      "Recall: 1.0 \n",
      "\n",
      "\n",
      "Comparison Report:\n",
      "          method vector_method  accuracy  precision    recall\n",
      "0           stem           bow  0.968900   0.987994  0.975593\n",
      "1           stem         tfidf  0.954545   0.949669  1.000000\n",
      "2      lemmatize           bow  0.968900   0.987994  0.975593\n",
      "3      lemmatize         tfidf  0.954545   0.949669  1.000000\n",
      "4  lemmatize_pos           bow  0.969498   0.987315  0.976987\n",
      "5  lemmatize_pos         tfidf  0.954545   0.949669  1.000000\n"
     ]
    }
   ],
   "source": [
    "report = compare_methods()"
   ]
  },
  {
   "cell_type": "code",
   "execution_count": 11,
   "id": "b9a412f4",
   "metadata": {
    "execution": {
     "iopub.execute_input": "2024-09-11T12:02:31.203216Z",
     "iopub.status.busy": "2024-09-11T12:02:31.202711Z",
     "iopub.status.idle": "2024-09-11T12:02:31.226343Z",
     "shell.execute_reply": "2024-09-11T12:02:31.225060Z"
    },
    "papermill": {
     "duration": 0.035418,
     "end_time": "2024-09-11T12:02:31.229030",
     "exception": false,
     "start_time": "2024-09-11T12:02:31.193612",
     "status": "completed"
    },
    "tags": []
   },
   "outputs": [
    {
     "data": {
      "text/html": [
       "<div>\n",
       "<style scoped>\n",
       "    .dataframe tbody tr th:only-of-type {\n",
       "        vertical-align: middle;\n",
       "    }\n",
       "\n",
       "    .dataframe tbody tr th {\n",
       "        vertical-align: top;\n",
       "    }\n",
       "\n",
       "    .dataframe thead th {\n",
       "        text-align: right;\n",
       "    }\n",
       "</style>\n",
       "<table border=\"1\" class=\"dataframe\">\n",
       "  <thead>\n",
       "    <tr style=\"text-align: right;\">\n",
       "      <th></th>\n",
       "      <th>method</th>\n",
       "      <th>vector_method</th>\n",
       "      <th>accuracy</th>\n",
       "      <th>precision</th>\n",
       "      <th>recall</th>\n",
       "    </tr>\n",
       "  </thead>\n",
       "  <tbody>\n",
       "    <tr>\n",
       "      <th>4</th>\n",
       "      <td>lemmatize_pos</td>\n",
       "      <td>bow</td>\n",
       "      <td>0.969498</td>\n",
       "      <td>0.987315</td>\n",
       "      <td>0.976987</td>\n",
       "    </tr>\n",
       "    <tr>\n",
       "      <th>0</th>\n",
       "      <td>stem</td>\n",
       "      <td>bow</td>\n",
       "      <td>0.968900</td>\n",
       "      <td>0.987994</td>\n",
       "      <td>0.975593</td>\n",
       "    </tr>\n",
       "    <tr>\n",
       "      <th>2</th>\n",
       "      <td>lemmatize</td>\n",
       "      <td>bow</td>\n",
       "      <td>0.968900</td>\n",
       "      <td>0.987994</td>\n",
       "      <td>0.975593</td>\n",
       "    </tr>\n",
       "    <tr>\n",
       "      <th>1</th>\n",
       "      <td>stem</td>\n",
       "      <td>tfidf</td>\n",
       "      <td>0.954545</td>\n",
       "      <td>0.949669</td>\n",
       "      <td>1.000000</td>\n",
       "    </tr>\n",
       "    <tr>\n",
       "      <th>3</th>\n",
       "      <td>lemmatize</td>\n",
       "      <td>tfidf</td>\n",
       "      <td>0.954545</td>\n",
       "      <td>0.949669</td>\n",
       "      <td>1.000000</td>\n",
       "    </tr>\n",
       "    <tr>\n",
       "      <th>5</th>\n",
       "      <td>lemmatize_pos</td>\n",
       "      <td>tfidf</td>\n",
       "      <td>0.954545</td>\n",
       "      <td>0.949669</td>\n",
       "      <td>1.000000</td>\n",
       "    </tr>\n",
       "  </tbody>\n",
       "</table>\n",
       "</div>"
      ],
      "text/plain": [
       "          method vector_method  accuracy  precision    recall\n",
       "4  lemmatize_pos           bow  0.969498   0.987315  0.976987\n",
       "0           stem           bow  0.968900   0.987994  0.975593\n",
       "2      lemmatize           bow  0.968900   0.987994  0.975593\n",
       "1           stem         tfidf  0.954545   0.949669  1.000000\n",
       "3      lemmatize         tfidf  0.954545   0.949669  1.000000\n",
       "5  lemmatize_pos         tfidf  0.954545   0.949669  1.000000"
      ]
     },
     "execution_count": 11,
     "metadata": {},
     "output_type": "execute_result"
    }
   ],
   "source": [
    "report.sort_values(by=\"accuracy\", ascending=False)"
   ]
  }
 ],
 "metadata": {
  "kaggle": {
   "accelerator": "none",
   "dataSources": [
    {
     "datasetId": 483,
     "sourceId": 982,
     "sourceType": "datasetVersion"
    }
   ],
   "dockerImageVersionId": 30761,
   "isGpuEnabled": false,
   "isInternetEnabled": true,
   "language": "python",
   "sourceType": "notebook"
  },
  "kernelspec": {
   "display_name": "Python 3",
   "language": "python",
   "name": "python3"
  },
  "language_info": {
   "codemirror_mode": {
    "name": "ipython",
    "version": 3
   },
   "file_extension": ".py",
   "mimetype": "text/x-python",
   "name": "python",
   "nbconvert_exporter": "python",
   "pygments_lexer": "ipython3",
   "version": "3.10.14"
  },
  "papermill": {
   "default_parameters": {},
   "duration": 44.105769,
   "end_time": "2024-09-11T12:02:32.363761",
   "environment_variables": {},
   "exception": null,
   "input_path": "__notebook__.ipynb",
   "output_path": "__notebook__.ipynb",
   "parameters": {},
   "start_time": "2024-09-11T12:01:48.257992",
   "version": "2.6.0"
  }
 },
 "nbformat": 4,
 "nbformat_minor": 5
}
