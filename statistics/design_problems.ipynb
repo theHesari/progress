{
 "cells": [
  {
   "cell_type": "markdown",
   "source": [
    "### Given the scenarios, design a problem."
   ],
   "metadata": {
    "collapsed": false
   },
   "id": "84dd8e591810e487"
  },
  {
   "cell_type": "markdown",
   "source": [
    "### Scenario 01:\n",
    "Design an experiment with only one fair coin in your hand that has a probability of success 1/3.\n"
   ],
   "metadata": {
    "collapsed": false
   },
   "id": "f743c3b599eabd76"
  },
  {
   "cell_type": "code",
   "outputs": [],
   "source": [],
   "metadata": {
    "collapsed": false
   },
   "id": "f38794287f4c4dec"
  }
 ],
 "metadata": {
  "kernelspec": {
   "display_name": "Python 3",
   "language": "python",
   "name": "python3"
  },
  "language_info": {
   "codemirror_mode": {
    "name": "ipython",
    "version": 2
   },
   "file_extension": ".py",
   "mimetype": "text/x-python",
   "name": "python",
   "nbconvert_exporter": "python",
   "pygments_lexer": "ipython2",
   "version": "2.7.6"
  }
 },
 "nbformat": 4,
 "nbformat_minor": 5
}
