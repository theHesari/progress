{
 "cells": [
  {
   "cell_type": "markdown",
   "id": "5264c3efa437af44",
   "metadata": {
    "collapsed": false,
    "jupyter": {
     "outputs_hidden": false
    }
   },
   "source": [
    "## Interval Estimation"
   ]
  },
  {
   "cell_type": "markdown",
   "id": "8545863d-9253-43f5-8bd1-6c52f4b080b7",
   "metadata": {
    "collapsed": false,
    "jupyter": {
     "outputs_hidden": false
    }
   },
   "source": [
    "### What is Confidence Interval?\n",
    "Confidence Interval is a **range** where we are certain that **true value** exists. The selection of a **confidence level** (the confidence level describes the uncertainty associated with a sampling method.) for an interval determines the **probability** that the confidence interval will contain the true parameter value. This range of values is generally used to deal with *population-based data, extracting specific, valuable information* with a certain amount of confidence, hence the term ‘Confidence Interval’. \n",
    "\n"
   ]
  },
  {
   "cell_type": "markdown",
   "id": "cdde973a-f728-4d78-a936-924f97e953d0",
   "metadata": {},
   "source": [
    "$$\n",
    "        CI = Mean ± (Z × std)\n",
    "$$"
   ]
  },
  {
   "cell_type": "markdown",
   "id": "4e6cc66c-c71f-4b9e-8843-15a44d966103",
   "metadata": {},
   "source": [
    "### Example:\n",
    "A company's quality control unit tests 20 products randomly and measures their weights. The average weight is 600 grams with a standard deviation of 20 grams. Suggest a range that the company can report with 99% confidence."
   ]
  },
  {
   "cell_type": "markdown",
   "id": "b8da8dd2-734d-492f-afe6-16cc2e705508",
   "metadata": {},
   "source": [
    "### Solution"
   ]
  },
  {
   "cell_type": "markdown",
   "id": "70b37e6f-f09b-4608-a08b-e4ce07edcce7",
   "metadata": {},
   "source": [
    "To calculate the range for which the company can report with 99% confidence, we assume a normal distribution for the weights. Given:\n",
    "\n",
    "Mean = 600 grams\n",
    "Standard deviation = 20 grams\n",
    "Confidence level = 99%\n",
    "For a 99% confidence level, the Z-score is approximately 2.576.\n",
    "\n",
    "To find the range:\n",
    "\n",
    "$$\n",
    "Range=Mean±(Z×Standard deviation) --> Range = 600 ± (2.576 * 20) --> Range = 600 ± 51.52 --> Range = [548.48, 651.52]\n",
    "$$\n",
    "\n",
    "\n",
    "So, the range for 99% confidence is from 548.48 grams to 651.52 grams."
   ]
  },
  {
   "cell_type": "code",
   "execution_count": 7,
   "id": "5012e18f-29f2-46e4-817f-623417c3383e",
   "metadata": {},
   "outputs": [
    {
     "name": "stdout",
     "output_type": "stream",
     "text": [
      "CI = [548.4834139290219, 651.5165860709781]\n"
     ]
    }
   ],
   "source": [
    "import scipy.stats as st \n",
    "\n",
    "mean = 600\n",
    "std = 20\n",
    "z_score = st.norm.ppf(0.995) \n",
    "\n",
    "## Calculate range\n",
    "theta_low = mean - z_score * std\n",
    "theta_high = mean + z_score * std\n",
    "\n",
    "print(f\"CI = [{theta_low}, {theta_high}]\")"
   ]
  },
  {
   "cell_type": "code",
   "execution_count": 8,
   "id": "e4df707c-f73c-47d7-b685-736a17d422b8",
   "metadata": {},
   "outputs": [
    {
     "name": "stdout",
     "output_type": "stream",
     "text": [
      "CI = (548.4834139290219, 651.5165860709781)\n"
     ]
    },
    {
     "name": "stderr",
     "output_type": "stream",
     "text": [
      "/var/folders/2r/0xf5r35d0t1330pv9d7lrq1c0000gn/T/ipykernel_23798/546646344.py:2: DeprecationWarning: Use of keyword argument `alpha` for method `interval` is deprecated. Use first positional argument or keyword argument `confidence` instead.\n",
      "  ci = st.norm.interval(alpha=0.99,\n"
     ]
    }
   ],
   "source": [
    "## Use prebuilt functions from scipy\n",
    "ci = st.norm.interval(alpha=0.99,  \n",
    "                 loc=mean, \n",
    "                 scale=std) \n",
    "\n",
    "print(f\"CI = {ci}\")"
   ]
  },
  {
   "cell_type": "code",
   "execution_count": null,
   "id": "7d6909e7-66a7-4d9b-b899-2e8f4546ec62",
   "metadata": {},
   "outputs": [],
   "source": []
  }
 ],
 "metadata": {
  "kernelspec": {
   "display_name": "Python 3 (ipykernel)",
   "language": "python",
   "name": "python3"
  },
  "language_info": {
   "codemirror_mode": {
    "name": "ipython",
    "version": 3
   },
   "file_extension": ".py",
   "mimetype": "text/x-python",
   "name": "python",
   "nbconvert_exporter": "python",
   "pygments_lexer": "ipython3",
   "version": "3.8.13"
  }
 },
 "nbformat": 4,
 "nbformat_minor": 5
}
