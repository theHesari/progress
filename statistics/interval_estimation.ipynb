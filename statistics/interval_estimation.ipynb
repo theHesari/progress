{
 "cells": [
  {
   "cell_type": "markdown",
   "id": "5264c3efa437af44",
   "metadata": {
    "collapsed": false,
    "jupyter": {
     "outputs_hidden": false
    }
   },
   "source": [
    "## Interval Estimation"
   ]
  },
  {
   "cell_type": "markdown",
   "id": "8545863d-9253-43f5-8bd1-6c52f4b080b7",
   "metadata": {
    "collapsed": false,
    "jupyter": {
     "outputs_hidden": false
    }
   },
   "source": [
    "### What is Confidence Interval?\n",
    "Confidence Interval is a **range** where we are certain that **true value** exists. The selection of a **confidence level** (the confidence level describes the uncertainty associated with a sampling method.) for an interval determines the **probability** that the confidence interval will contain the true parameter value. This range of values is generally used to deal with *population-based data, extracting specific, valuable information* with a certain amount of confidence, hence the term ‘Confidence Interval’. \n",
    "\n"
   ]
  },
  {
   "cell_type": "code",
   "execution_count": null,
   "id": "b7307914-dff6-457d-8b11-3414bf34ddb0",
   "metadata": {},
   "outputs": [],
   "source": []
  }
 ],
 "metadata": {
  "kernelspec": {
   "display_name": "Python 3 (ipykernel)",
   "language": "python",
   "name": "python3"
  },
  "language_info": {
   "codemirror_mode": {
    "name": "ipython",
    "version": 3
   },
   "file_extension": ".py",
   "mimetype": "text/x-python",
   "name": "python",
   "nbconvert_exporter": "python",
   "pygments_lexer": "ipython3",
   "version": "3.8.13"
  }
 },
 "nbformat": 4,
 "nbformat_minor": 5
}
