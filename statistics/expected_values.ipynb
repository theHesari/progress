{
 "cells": [
  {
   "cell_type": "markdown",
   "id": "d82d3f340e904f83",
   "metadata": {
    "collapsed": false,
    "jupyter": {
     "outputs_hidden": false
    }
   },
   "source": [
    "## Expected Values"
   ]
  },
  {
   "cell_type": "markdown",
   "id": "56f5be7b-471e-4562-8b77-55f81560ce98",
   "metadata": {},
   "source": [
    "### Example:"
   ]
  },
  {
   "cell_type": "markdown",
   "id": "91c805dd4b4c7039",
   "metadata": {
    "collapsed": false,
    "jupyter": {
     "outputs_hidden": false
    }
   },
   "source": [
    "In a 6-choice test, if a person answers randomly, we expect the average score of that person to be zero percent, \n",
    "- if he does not have a negative score, what percentage will he get on average? \n",
    "- What a negative score should be included so that the expected average becomes zero percent?"
   ]
  },
  {
   "cell_type": "markdown",
   "id": "38f950f7-6bcd-4275-b488-a84336b801ad",
   "metadata": {},
   "source": [
    "### Solution:"
   ]
  },
  {
   "cell_type": "markdown",
   "id": "98dbb670b7011829",
   "metadata": {
    "collapsed": false,
    "jupyter": {
     "outputs_hidden": false
    }
   },
   "source": [
    "Part 1: **Expected Average Score Without Negative Scoring**\n",
    "If a person answers randomly on a multiple-choice test with 6 choices for each question:\n",
    "\n",
    "- The probability of selecting the correct answer randomly is $\\frac{1}{6}$.\n",
    "- The probability of selecting an incorrect answer is $\\frac{5}{6}$.\n",
    "If there is no negative scoring, the expected score for each question is calculated as:\n",
    "$$\n",
    "        ExpectedScore = (\\frac{1}{6} * 1) + (\\frac{5}{6} * 0) = \\frac{1}{6}\n",
    "$$\n",
    "\n",
    "This means that, on average, the person will score $ \\frac{1}{6} * 100 = 16.67 $% if they answer randomly without any penalty for incorrect answers."
   ]
  },
  {
   "cell_type": "markdown",
   "id": "9ade16e8c206cca5",
   "metadata": {
    "collapsed": false,
    "jupyter": {
     "outputs_hidden": false
    }
   },
   "source": [
    "Part 2: **Expected Average Score With Negative Scoring**\n",
    "If a person answers randomly on a multiple-choice test with 6 choices for each question:\n",
    "\n",
    "- The probability of selecting the correct answer randomly is $\\frac{1}{6}$.\n",
    "- The probability of selecting an incorrect answer is $\\frac{5}{6}$.\n",
    "\n",
    "Also there will be scores for each case.\n",
    "- The positive score for a correct answer as +1.\n",
    "- The negative score (penalty) for an incorrect answer as (-k).\n",
    "\n",
    "Now, the expected score for each question is calculated as:\n",
    "$$\n",
    "        ExpectedScore = (\\frac{1}{6} * 1)+(\\frac{5}{6} * (-k)) \n",
    "$$\n",
    "\n",
    "For the expected score to be 0, we have to a little calculations,\n",
    "Now, the expected score for each question is calculated as:\n",
    "$$\n",
    "        ExpectedScore = (\\frac{1}{6} * 1)+(\\frac{5}{6} * (-k)) = 0\n",
    "$$\n",
    "$$\n",
    "        (\\frac{1}{6} * 1)+(\\frac{5}{6} * (-k)) = \\frac{1}{6}(1 - 5k) = 0\n",
    "$$\n",
    "$$\n",
    "        1 - 5k = 0\n",
    "$$\n",
    "$$\n",
    "        \\frac{1}{5} = k\n",
    "$$\n",
    "$$\n",
    "0.2 = k\n",
    "$$\n",
    "\n",
    "The *penalty* for each incorrect answer should be **0.2** in order for the **expected average score to be 0 percent** when a person answers randomly on a 6-choice test."
   ]
  },
  {
   "cell_type": "code",
   "execution_count": 2,
   "id": "fb8808bfb3dc1c55",
   "metadata": {
    "ExecuteTime": {
     "end_time": "2024-09-04T12:42:50.263418Z",
     "start_time": "2024-09-04T12:42:50.257717Z"
    },
    "collapsed": false,
    "jupyter": {
     "outputs_hidden": false
    }
   },
   "outputs": [
    {
     "name": "stdout",
     "output_type": "stream",
     "text": [
      "0.2\n"
     ]
    }
   ],
   "source": [
    "n = 6\n",
    "def expected_values(n):\n",
    "    return 1/(n-1)\n",
    "\n",
    "print(expected_values(n))"
   ]
  },
  {
   "cell_type": "code",
   "execution_count": null,
   "id": "df3c8d8b29c2541",
   "metadata": {
    "collapsed": false,
    "jupyter": {
     "outputs_hidden": false
    }
   },
   "outputs": [],
   "source": []
  }
 ],
 "metadata": {
  "kernelspec": {
   "display_name": "Python 3 (ipykernel)",
   "language": "python",
   "name": "python3"
  },
  "language_info": {
   "codemirror_mode": {
    "name": "ipython",
    "version": 3
   },
   "file_extension": ".py",
   "mimetype": "text/x-python",
   "name": "python",
   "nbconvert_exporter": "python",
   "pygments_lexer": "ipython3",
   "version": "3.8.13"
  }
 },
 "nbformat": 4,
 "nbformat_minor": 5
}
