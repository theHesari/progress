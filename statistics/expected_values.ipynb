{
 "cells": [
  {
   "cell_type": "markdown",
   "source": [],
   "metadata": {
    "collapsed": false
   },
   "id": "d82d3f340e904f83"
  },
  {
   "cell_type": "markdown",
   "source": [
    "In a 6-choice test, if a person answers randomly, we expect the average score of that person to be zero percent, \n",
    "- if he does not have a negative score, what percentage will he get on average? \n",
    "- What a negative score should be included so that the expected average becomes zero percent?"
   ],
   "metadata": {
    "collapsed": false
   },
   "id": "91c805dd4b4c7039"
  },
  {
   "cell_type": "markdown",
   "source": [
    "Part 1: **Expected Average Score Without Negative Scoring**\n",
    "If a person answers randomly on a multiple-choice test with 6 choices for each question:\n",
    "\n",
    "- The probability of selecting the correct answer randomly is $\\frac{1}{6}$.\n",
    "- The probability of selecting an incorrect answer is $\\frac{5}{6}$.\n",
    "If there is no negative scoring, the expected score for each question is calculated as:\n",
    "$$\n",
    "        ExpectedScore = (\\frac{1}{6} * 1) + (\\frac{5}{6} * 0) = \\frac{1}{6}\n",
    "$$\n",
    "\n",
    "This means that, on average, the person will score $ \\frac{1}{6} * 100 = 16.67 $% if they answer randomly without any penalty for incorrect answers."
   ],
   "metadata": {
    "collapsed": false
   },
   "id": "98dbb670b7011829"
  },
  {
   "cell_type": "markdown",
   "source": [
    "Part 2: **Expected Average Score With Negative Scoring**\n",
    "If a person answers randomly on a multiple-choice test with 6 choices for each question:\n",
    "\n",
    "- The probability of selecting the correct answer randomly is $\\frac{1}{6}$.\n",
    "- The probability of selecting an incorrect answer is $\\frac{5}{6}$.\n",
    "\n",
    "Also there will be scores for each case.\n",
    "- The positive score for a correct answer as +1.\n",
    "- The negative score (penalty) for an incorrect answer as (-k).\n",
    "\n",
    "Now, the expected score for each question is calculated as:\n",
    "$$\n",
    "        ExpectedScore = (\\frac{1}{6} * 1)+(\\frac{5}{6} * (-k)) \n",
    "$$\n",
    "\n",
    "For the expected score to be 0, we have to a little calculations,\n",
    "Now, the expected score for each question is calculated as:\n",
    "$$\n",
    "        ExpectedScore = (\\frac{1}{6} * 1)+(\\frac{5}{6} * (-k)) = 0\n",
    "$$\n",
    "$$\n",
    "        (\\frac{1}{6} * 1)+(\\frac{5}{6} * (-k)) = \\frac{1}{6}(1 - 5k) = 0\n",
    "$$\n",
    "$$\n",
    "        1 - 5k = 0\n",
    "$$\n",
    "$$\n",
    "        \\frac{1}{5} = k\n",
    "$$\n",
    "$$\n",
    "0.2 = k\n",
    "$$\n",
    "\n",
    "The *penalty* for each incorrect answer should be **0.2** in order for the **expected average score to be 0 percent** when a person answers randomly on a 6-choice test."
   ],
   "metadata": {
    "collapsed": false
   },
   "id": "9ade16e8c206cca5"
  },
  {
   "cell_type": "code",
   "outputs": [],
   "source": [],
   "metadata": {
    "collapsed": false
   },
   "id": "fb8808bfb3dc1c55"
  }
 ],
 "metadata": {
  "kernelspec": {
   "display_name": "Python 3",
   "language": "python",
   "name": "python3"
  },
  "language_info": {
   "codemirror_mode": {
    "name": "ipython",
    "version": 2
   },
   "file_extension": ".py",
   "mimetype": "text/x-python",
   "name": "python",
   "nbconvert_exporter": "python",
   "pygments_lexer": "ipython2",
   "version": "2.7.6"
  }
 },
 "nbformat": 4,
 "nbformat_minor": 5
}
