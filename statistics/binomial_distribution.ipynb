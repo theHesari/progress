{
 "cells": [
  {
   "cell_type": "markdown",
   "id": "6539694618f63a99",
   "metadata": {
    "collapsed": false,
    "jupyter": {
     "outputs_hidden": false
    }
   },
   "source": [
    "## Binomial Distribution\n"
   ]
  },
  {
   "cell_type": "markdown",
   "id": "4bfff628-0b3c-41a2-ad40-a369d89d0491",
   "metadata": {},
   "source": [
    "### What is Bionamial Distribution"
   ]
  },
  {
   "cell_type": "markdown",
   "id": "b637239e-f121-425d-b083-fb1d87c90d1f",
   "metadata": {},
   "source": [
    "Binomial distribution is a **probability distribution** that summarizes the likelihood that a variable will take **one of two independent values** under a given set of parameters. The distribution is obtained by performing a number of **Bernoulli trials**. A Bernoulli trial is assumed to meet each of these criteria:\n",
    "\n",
    "- There must be **only 2** possible outcomes.\n",
    "- Each outcome has a **fixed probability** of occurring. A success has the probability of \\( p \\), and a failure has the probability of \\( 1 - p \\).\n",
    "- Each trial is **completely independent** of all others.\n",
    "\n",
    "The **binomial random variable** represents the **number of successes \\( r \\)** in **\\( n \\) successive independent trials** of a Bernoulli experiment. The probability of achieving **\\( r \\) successes and \\( n - r \\) failures** is:\n",
    "\n",
    "$$\n",
    "p^{r} (1 - p)^{(n - r)}\n",
    "$$\n",
    "\n",
    "The number of ways we can achieve \\( r \\) successes is:\n",
    "\n",
    "$$\n",
    "\\frac{n!}{(n-r)! \\, r!}\n",
    "$$\n",
    "\n",
    "Hence, the probability mass function (pmf), which is the total probability of achieving \\( r \\) successes and \\( n - r \\) failures, is:\n",
    "\n",
    "$$\n",
    "\\frac{n!}{(n-r)! \\, r!} \\cdot p^r \\cdot (1-p)^{n-r}\n",
    "$$"
   ]
  },
  {
   "cell_type": "markdown",
   "id": "9dd72688-d5f6-48e5-aa86-868340ce5ed3",
   "metadata": {},
   "source": [
    "### Example 01:"
   ]
  },
  {
   "cell_type": "markdown",
   "id": "0e0f3f9e-9f84-48f8-bf32-8d322cda72b2",
   "metadata": {},
   "source": [
    "The company's marketing team knows the probability of each successful campaign is 30%. If they run 5 advertising campaigns, what is the probability that at least 2 of the campaigns will be successful?\n",
    "\n",
    "*Solution:*\n",
    "\n",
    "There are two ways to calculate this probability:\n",
    "\n",
    "- Calculate the probability of being successful **at least 2 times**. This involves finding the probability for all cases where 2, 3, 4, or 5 campaigns are successful. ( k = [2, 3, 4, 5] )\n",
    "  $$\n",
    "    \\Sigma \\frac{(n)!}{(k)!(n - k)!} \\cdot (0.3)^{k} \\cdot (1 - 0.3)^{n-k}\n",
    "  $$\n",
    "\n",
    "  *answer 01:*\n",
    "  $$\n",
    "      \\frac{(5)!}{(2)!(3)!} \\cdot (0.3)^{2} \\cdot (0.7)^{3} + \\frac{(5)!}{(3)!(2)!} \\cdot (0.3)^{3} \\cdot (0.7)^{2} + \\frac{(5)!}{(4)!(1)!} \\cdot (0.3)^{4} \\cdot (0.7)^{1} + \\frac{(5)!}{(5)!(0)!} \\cdot (0.3)^{5} \\cdot (0.7)^{0}  =  0.3087 + 0.1323 + 0.02835 + 0.00243 = 0.47178\n",
    "  $$\n",
    "\n",
    "\n",
    "\n",
    "  \n",
    "- Calculate the probability of **none or only one campaign being successful**, and then subtract this from 1. ( k = [0, 1] )\n",
    "  $$\n",
    "   1 - \\Sigma \\frac{(n)!}{(k)!(n - k)!} \\cdot (0.3)^{k} \\cdot (1 - 0.3)^{n-k}\n",
    "  $$\n",
    "  *answer 02:*\n",
    "  $$\n",
    "    1 - [ \\frac{(5)!}{(0)!(5)!} \\cdot (0.3)^{0} \\cdot (0.7)^{5} + \\frac{(5)!}{(1)!(4)!} \\cdot (0.3)^{1} \\cdot (0.7)^{4} ] = 0.16807 + 0.36015 = 1 - 0.52822 = 0.47178\n",
    "  $$\n"
   ]
  },
  {
   "cell_type": "code",
   "execution_count": 41,
   "id": "5011b949-40b6-44d4-b36d-d65d6a610629",
   "metadata": {},
   "outputs": [
    {
     "name": "stdout",
     "output_type": "stream",
     "text": [
      "r\tp(r)\n",
      "2\t0.30869999999999975\n",
      "3\t0.1322999999999999\n",
      "4\t0.028349999999999986\n",
      "5\t0.0024299999999999994\n",
      "probability of being successful at least 2 times over 5 trials is: 0.4717799999999996\n",
      "\n",
      "r\tp(r)\n",
      "0\t0.16806999999999994\n",
      "1\t0.3601499999999999\n",
      "probability of being successful at least 2 times over 5 trials is: 1 - 0.5282199999999999 = 0.4717800000000001\n"
     ]
    }
   ],
   "source": [
    "from scipy.stats import binom \n",
    "# setting the values \n",
    "# of n and p \n",
    "n = 5\n",
    "p = 0.3\n",
    "k = 2\n",
    "# defining the list of r values \n",
    "r_values = list(range(n + 1)) \n",
    "# obtaining the mean and variance \n",
    "mean, var = binom.stats(n, p) \n",
    "# list of pmf values \n",
    "dist = [binom.pmf(r, n, p) for r in r_values ] \n",
    "# printing the table \n",
    "# solution01:\n",
    "print(\"r\\tp(r)\") \n",
    "for i in range(k, n + 1): \n",
    "\tprint(str(r_values[i]) + \"\\t\" + str(dist[i])) \n",
    "\n",
    "print(f\"probability of being successful at least 2 times over 5 trials is: {sum(dist[k:])}\\n\")\n",
    "\n",
    "# solution02:\n",
    "print(\"r\\tp(r)\") \n",
    "for i in range(k): \n",
    "\tprint(str(r_values[i]) + \"\\t\" + str(dist[i])) \n",
    "\n",
    "print(f\"probability of being successful at least 2 times over 5 trials is: 1 - {sum(dist[:k])} = {1 - sum(dist[:k])}\")\n",
    "\n"
   ]
  },
  {
   "cell_type": "markdown",
   "id": "5dacd3f5-f29b-4d66-8927-ac61b6cdee7f",
   "metadata": {},
   "source": [
    "### Let's see how the probability of wining EXACTLY K times over N trials are different in this case:"
   ]
  },
  {
   "cell_type": "code",
   "execution_count": 43,
   "id": "deff4d00-e9d3-4144-ac88-f40ee3302160",
   "metadata": {},
   "outputs": [
    {
     "data": {
      "image/png": "[encoded data removed]",
      "text/plain": [
       "<Figure size 640x480 with 1 Axes>"
      ]
     },
     "metadata": {},
     "output_type": "display_data"
    }
   ],
   "source": [
    "from scipy.stats import binom \n",
    "import matplotlib.pyplot as plt \n",
    "# setting the values \n",
    "# of n and p \n",
    "n = 5\n",
    "p = 0.3\n",
    "# defining list of r values \n",
    "r_values = list(range(1, n + 1)) \n",
    "# list of pmf values \n",
    "dist = [binom.pmf(r, n, p) for r in r_values ] \n",
    "# plotting the graph \n",
    "plt.bar(r_values, dist) \n",
    "plt.show()\n"
   ]
  },
  {
   "cell_type": "markdown",
   "id": "9e06ceb1-4647-4604-9563-26c29cdb4301",
   "metadata": {},
   "source": [
    "#### Looks like its more likely to be successfull 1 time over 5 trials!!"
   ]
  },
  {
   "cell_type": "markdown",
   "id": "7d3b2c96-b932-4aaf-ae69-d96fdb178f37",
   "metadata": {},
   "source": [
    "### Example 02:"
   ]
  },
  {
   "cell_type": "markdown",
   "id": "3cd4748b-0f04-4b94-9daf-3a0b96e7016e",
   "metadata": {},
   "source": [
    "Professor Banach carries a matchbox in each of his two pockets. Each time he wants to use a match, he randomly chooses one of the two matchboxes. If each matchbox initially contains 𝑁 matches, what is the probability that exactly \n",
    "𝐾 matches remain in the other matchbox?\n",
    "\n",
    "*Solution:*\n",
    "\n",
    "We expect the professor to take \n",
    "𝑁 matches from one matchbox and 𝑁 − 𝐾 matches from the other, for a total of 2𝑁 − 𝐾 matches. We want to calculate the probability that he picks exactly 𝑁 − 𝐾 matches from one matchbox and the remaining 𝑁 matches from the other.\n",
    "To do so...\n",
    "\n",
    "$$\n",
    "\\frac{(2n - k)!}{(n - k)!(n)!} \\cdot (0.5)^{n - k} \\cdot (1-0.5)^{n}\n",
    "$$"
   ]
  },
  {
   "cell_type": "markdown",
   "id": "92868eb7-f86c-4a8b-a222-df7e6bc206eb",
   "metadata": {},
   "source": [
    "#### Let's see it with numbers.\n",
    "- N: 10\n",
    "- K: 3\n",
    "- p: 0.5"
   ]
  },
  {
   "cell_type": "code",
   "execution_count": 47,
   "id": "300e252e-7bda-473e-8ad9-8c738246fc05",
   "metadata": {},
   "outputs": [
    {
     "name": "stdout",
     "output_type": "stream",
     "text": [
      "r\tp(r)\n",
      "1\t0.0001296997070312501\n",
      "2\t0.001037597656250002\n",
      "3\t0.005187988281250006\n",
      "4\t0.01815795898437496\n",
      "5\t0.047210693359375056\n",
      "6\t0.09442138671875006\n",
      "7\t0.14837646484375003\n",
      "8\t0.1854705810546874\n",
      "9\t0.1854705810546874\n",
      "10\t0.14837646484375\n",
      "11\t0.09442138671875003\n",
      "12\t0.04721069335937506\n",
      "13\t0.01815795898437496\n",
      "14\t0.005187988281250006\n",
      "15\t0.001037597656250002\n",
      "16\t0.0001296997070312501\n",
      "17\t7.62939453125e-06\n",
      "\n",
      "\n"
     ]
    },
    {
     "data": {
      "image/png": "[encoded data removed]",
      "text/plain": [
       "<Figure size 640x480 with 1 Axes>"
      ]
     },
     "metadata": {},
     "output_type": "display_data"
    }
   ],
   "source": [
    "# setting the values \n",
    "# of n and p \n",
    "n = 10\n",
    "p = 0.5\n",
    "k = 3\n",
    "\n",
    "# defining the list of r values \n",
    "r_values = list(range(1, 2*n - k + 1)) \n",
    "# obtaining the mean and variance \n",
    "mean, var = binom.stats(n, p) \n",
    "# list of pmf values \n",
    "dist = [binom.pmf(r, (2*n - k), p) for r in r_values ] \n",
    "# printing the table \n",
    "# solution01:\n",
    "print(\"r\\tp(r)\") \n",
    "for i in range(2*n - k): \n",
    "\tprint(str(r_values[i]) + \"\\t\" + str(dist[i])) \n",
    "print('\\n')\n",
    "plt.bar(r_values, dist) \n",
    "plt.xlabel(\"r values\")\n",
    "plt.ylabel(\"p(r)\")\n",
    "plt.show()\n",
    "\n"
   ]
  },
  {
   "cell_type": "code",
   "execution_count": null,
   "id": "9811e22c-3ba1-45be-b0a2-bbfd519cf87d",
   "metadata": {},
   "outputs": [],
   "source": []
  }
 ],
 "metadata": {
  "kernelspec": {
   "display_name": "Python 3 (ipykernel)",
   "language": "python",
   "name": "python3"
  },
  "language_info": {
   "codemirror_mode": {
    "name": "ipython",
    "version": 3
   },
   "file_extension": ".py",
   "mimetype": "text/x-python",
   "name": "python",
   "nbconvert_exporter": "python",
   "pygments_lexer": "ipython3",
   "version": "3.8.13"
  }
 },
 "nbformat": 4,
 "nbformat_minor": 5
}
