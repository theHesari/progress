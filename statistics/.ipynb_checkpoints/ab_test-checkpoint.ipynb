{
 "cells": [
  {
   "cell_type": "markdown",
   "id": "0456c447-59e3-431c-8135-73d43040a7c2",
   "metadata": {},
   "source": [
    "## A/B Test"
   ]
  },
  {
   "cell_type": "markdown",
   "id": "d7e7ca1f-81ce-4263-baf7-65a93d79920b",
   "metadata": {},
   "source": [
    "- An A/B test is like a competition between two versions of something to see which one performs better. Imagine you have two different versions of a webpage or a feature on a website – Version A (the current version) and Version B (the new version). You want to find out if Version B is better at getting users to do something, like clicking a button or signing up for a service.\n",
    "\n",
    "  \n",
    "- Hypothesis testing is a method in statistics used to determine whether there is **enough evidence to support a certain belief or hypothesis** about a population parameter "
   ]
  },
  {
   "cell_type": "markdown",
   "id": "87d7ebcd-2a60-48a9-8102-66921c1c463d",
   "metadata": {},
   "source": [
    "### Example"
   ]
  },
  {
   "cell_type": "markdown",
   "id": "656dfedb-e139-4511-b320-7139ccd950f7",
   "metadata": {},
   "source": [
    "To test a new feature on the website, we need to perform an A/B test. The success metric is the monthly click rate. Based on past data, the current click rate is 40%, and we expect this new feature to increase the click rate by 2% (relative increase). We have a daily sample size of 5,000, and we want to show the new feature to half of the users. If we want to be 90% confident in the results, approximately how many days do we need to run the A/B test?"
   ]
  },
  {
   "cell_type": "markdown",
   "id": "b4eff067-df79-4cf8-99cc-8af6afadefe5",
   "metadata": {},
   "source": [
    "### Solution"
   ]
  },
  {
   "cell_type": "markdown",
   "id": "b793f585-5071-4a11-bb6d-f09348fc0c01",
   "metadata": {},
   "source": [
    "1.  Null Hypothesis $(H0)$: Assumes no difference or no effect \n",
    "-  the new feature doesn't improve the click rate.\n",
    "- the click rate stays the same at 40%.\n",
    "- $P_A = P_B = 0.4$\n",
    "\n",
    "2. Alternative Hypothesis  $(H1)$: Assumes a difference or an effect \n",
    "- the new feature does improve the click rate.\n",
    "- the click rate increases to 42%.\n",
    "- $P_B = 0.42$\n",
    "\n",
    "3. Confidence Level (90%) and Significance Level (10%):\n",
    "\n",
    "  - how much risk you're willing to take of being wrong if you conclude there is an effect.\n",
    "\n",
    "4. Power (80%):\n",
    "\n",
    "  - the probability of detecting an effect (like the click rate increase) if there is one.\n",
    "\n",
    "Use the Sample Size Formula\n",
    "To find out **how many users** we need to test\n",
    "\n",
    "$$\n",
    "𝑛 = \\frac{((𝑍_{1−𝛼} + 𝑍_{1−𝛽} )^2 (𝑝_1(1 − 𝑝_1) + 𝑝_2(1 − 𝑝_2))}{(𝑝_1 − 𝑝_2)^2}\n",
    "$$\n",
    "\n",
    "Where:\n",
    "\n",
    "* n = number of users needed\n",
    "* $𝑍_{1−𝛼} = 1.645$\n",
    "* $𝑍_{1−𝛽} = 0.84$\n",
    "* $𝑝_1 = 0.4$\n",
    "* $𝑝_2 = 0.42$\n",
    "\n",
    "\n",
    "$$ n = 7468 $$\n",
    "\n",
    "$$ Number of Days = \\frac {n}{5000} $$\n",
    "\n",
    "$$ Number of Days = 2 $$\n"
   ]
  },
  {
   "cell_type": "code",
   "execution_count": 17,
   "id": "3acf1d10-634e-4ef0-bc1a-57018c4289a4",
   "metadata": {},
   "outputs": [
    {
     "name": "stdout",
     "output_type": "stream",
     "text": [
      "Required sample size per group: 7475 users\n",
      "Required days: 2 days\n"
     ]
    }
   ],
   "source": [
    "from scipy.stats import norm\n",
    "\n",
    "# Inputs for the A/B test\n",
    "p1 = 0.40  # Click rate for current version (Version A)\n",
    "p2 = 0.42  # Expected click rate for new version (Version B)\n",
    "alpha = 0.10  # Significance level (10% significance level for 90% confidence)\n",
    "power = 0.80  # Desired power (80%)\n",
    "\n",
    "# Calculate Z-scores for the confidence level (alpha) and power (beta)\n",
    "z_alpha = norm.ppf(1 - alpha / 2)  # Z-score for the confidence level\n",
    "z_beta = norm.ppf(power)  # Z-score for power\n",
    "\n",
    "# Calculate the combined variance\n",
    "variance_combined = p1 * (1 - p1) + p2 * (1 - p2)\n",
    "\n",
    "# Calculate the minimum detectable difference\n",
    "difference_squared = (p1 - p2) ** 2\n",
    "\n",
    "# Sample size calculation\n",
    "n = (((z_alpha + z_beta) ** 2) * variance_combined) / difference_squared\n",
    "\n",
    "# Display the result\n",
    "print(f\"Required sample size per group: {n:.0f} users\")\n",
    "print(f\"Required days: {n/5000+1:.0f} days\")\n",
    "\n"
   ]
  },
  {
   "cell_type": "code",
   "execution_count": null,
   "id": "fbdaea38-d887-4853-9870-91e95de86365",
   "metadata": {},
   "outputs": [],
   "source": []
  }
 ],
 "metadata": {
  "kernelspec": {
   "display_name": "Python 3 (ipykernel)",
   "language": "python",
   "name": "python3"
  },
  "language_info": {
   "codemirror_mode": {
    "name": "ipython",
    "version": 3
   },
   "file_extension": ".py",
   "mimetype": "text/x-python",
   "name": "python",
   "nbconvert_exporter": "python",
   "pygments_lexer": "ipython3",
   "version": "3.8.13"
  }
 },
 "nbformat": 4,
 "nbformat_minor": 5
}
