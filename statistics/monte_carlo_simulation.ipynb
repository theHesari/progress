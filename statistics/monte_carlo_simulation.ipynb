{
 "cells": [
  {
   "cell_type": "markdown",
   "id": "dfe41106-040f-4107-8895-fea22a81cda5",
   "metadata": {},
   "source": [
    "## Mont Carlo Simulation"
   ]
  },
  {
   "cell_type": "markdown",
   "id": "c0e2fcda-951b-486a-9bc1-d5c75cde156b",
   "metadata": {},
   "source": [
    "### Example 01"
   ]
  },
  {
   "cell_type": "markdown",
   "id": "2b85f33f-3b3b-4f8c-96a4-73a6e9c86a32",
   "metadata": {},
   "source": [
    "There are 100 passengers boarding a plane one by one. The first passenger loses their boarding pass and sits in a random seat. Each subsequent passenger sits in their own seat if it is available; otherwise, they sit in a random available seat. What is the probability that the last passenger will sit in their own assigned seat?"
   ]
  },
  {
   "cell_type": "markdown",
   "id": "aef569da-77b7-4e54-acda-dadeaa971fee",
   "metadata": {},
   "source": [
    "### Solution 01"
   ]
  },
  {
   "cell_type": "markdown",
   "id": "91657f03-ea55-4af4-97a8-a270ac9f5651",
   "metadata": {},
   "source": [
    "The beauty of this kind of problem is that you can come up with an estimation and then prove your estimation using a simulation.\n",
    "\n",
    "In this case, we want to determine whether the \n",
    "𝑛\n",
    "nth passenger will sit in their own seat or not.\n",
    "\n",
    "For $ 𝑛 = 2 $ (2 passengers), the probability is clearly $ 𝑃(2) = 0.5 $\n",
    "\n",
    "because:\n",
    "\n",
    "If Passenger 1 sits in their own seat (Seat 1), then Passenger 2 will sit in Seat 2.\n",
    "If Passenger 1 sits in Seat 2, then Passenger 2 cannot sit in their own seat.\n",
    "\n",
    "The **law of large numbers** ensures that the observed proportion of times the last passenger sits in their assigned seat will converge to the true probability, which is 0.5.\n"
   ]
  },
  {
   "cell_type": "code",
   "execution_count": 7,
   "id": "f0582028-88fc-450e-bd47-e0efbf899bd3",
   "metadata": {},
   "outputs": [
    {
     "name": "stdout",
     "output_type": "stream",
     "text": [
      "Estimated Probability that the last passenger sits in their own seat: 0.4998\n"
     ]
    }
   ],
   "source": [
    "import random\n",
    "\n",
    "def simulate_boarding():\n",
    "    seats = list(range(1, 101))  # Seats are numbered from 1 to 100\n",
    "    random_seat = random.choice(seats)  # First passenger picks a random seat\n",
    "    seats.remove(random_seat)  # Remove the randomly chosen seat\n",
    "    \n",
    "    for passenger in range(2, 100):  # Passengers 2 to 99\n",
    "        if passenger in seats:  # If their assigned seat is available\n",
    "            seats.remove(passenger)  # They sit in their own seat\n",
    "        else:  # Otherwise, pick a random available seat\n",
    "            seats.remove(random.choice(seats))\n",
    "    \n",
    "    # Check if the last passenger (100th) sits in their own seat\n",
    "    return 100 in seats\n",
    "\n",
    "# Run the simulation multiple times\n",
    "def monte_carlo_simulation_boarding(num_simulations=100000):\n",
    "    success_count = sum(simulate_boarding() for _ in range(num_simulations))\n",
    "    return success_count / num_simulations\n",
    "\n",
    "# Run the simulation\n",
    "probability = monte_carlo_simulation_boarding()\n",
    "print(f\"Estimated Probability that the last passenger sits in their own seat: {probability:.4f}\")\n"
   ]
  },
  {
   "cell_type": "markdown",
   "id": "b8389d1d-1de9-4e1a-9e50-bafac534d563",
   "metadata": {},
   "source": [
    "### Example 02"
   ]
  },
  {
   "cell_type": "markdown",
   "id": "a2cf5aab-54ef-4f22-88c2-283debf9e2bb",
   "metadata": {},
   "source": [
    "How many times do you need to roll two six-sided dice until you see the number 6 appear on both dice simultaneously?"
   ]
  },
  {
   "cell_type": "markdown",
   "id": "788a2072-cb02-4ec1-832f-b1d08afdb7b9",
   "metadata": {},
   "source": [
    "### Solution"
   ]
  },
  {
   "cell_type": "markdown",
   "id": "2124b818-8e78-4847-b5d3-640b18dec110",
   "metadata": {},
   "source": [
    "The probability of rolling a double six with two six-sided dice is: $ \\frac{1}{6} * \\frac{1}{6} = \\frac{1}{36}$\n",
    "\n",
    "This represents the chance of getting double sixes on a single roll. However, what we actually want to know is the probability of getting a double six for the first time after a certain number of trials. This problem follows a geometric distribution.\n",
    "\n",
    "The geometric distribution gives the probability that the first occurrence of success requires $k$ independent trials, each with success probability $p$. If the probability of success on each trial is $p$, then the probability that the $k-th$ trial is the first success is\n",
    "$ Pr(X=k)=(1-p)^{k-1}p $\n",
    "\n",
    "for $ k=1,2,3,4,...$ and $p=\\frac {1}{36}$\n",
    "\n",
    "\n",
    "\n",
    "Expected Value (Mean):\n",
    "\n",
    "The expected number of rolls $ 𝐸(𝑋) $to get the first double six is:\n",
    "$$ 𝐸(𝑋) = \\frac {1} {p} $$\n",
    "$$ 𝐸(𝑋) = 36 $$\n",
    "This means, on average, you need 36 rolls to get the first double six.\n"
   ]
  },
  {
   "cell_type": "code",
   "execution_count": 8,
   "id": "d39efafa-c4fc-448d-a5bb-b2ca1b033a1f",
   "metadata": {},
   "outputs": [
    {
     "name": "stdout",
     "output_type": "stream",
     "text": [
      "Expected number of rolls until double six: 35.98\n"
     ]
    }
   ],
   "source": [
    "import random\n",
    "\n",
    "def roll_dice_until_double_six():\n",
    "    rolls = 0\n",
    "    while True:\n",
    "        dice1 = random.randint(1, 6)\n",
    "        dice2 = random.randint(1, 6)\n",
    "        rolls += 1\n",
    "        if dice1 == 6 and dice2 == 6:\n",
    "            return rolls\n",
    "\n",
    "# Run the simulation multiple times\n",
    "def monte_carlo_simulation_dice(num_simulations=100000):\n",
    "    total_rolls = sum(roll_dice_until_double_six() for _ in range(num_simulations))\n",
    "    return total_rolls / num_simulations\n",
    "\n",
    "# Run the simulation\n",
    "expected_rolls = monte_carlo_simulation_dice()\n",
    "print(f\"Expected number of rolls until double six: {expected_rolls:.2f}\")\n"
   ]
  }
 ],
 "metadata": {
  "kernelspec": {
   "display_name": "Python 3 (ipykernel)",
   "language": "python",
   "name": "python3"
  },
  "language_info": {
   "codemirror_mode": {
    "name": "ipython",
    "version": 3
   },
   "file_extension": ".py",
   "mimetype": "text/x-python",
   "name": "python",
   "nbconvert_exporter": "python",
   "pygments_lexer": "ipython3",
   "version": "3.8.13"
  }
 },
 "nbformat": 4,
 "nbformat_minor": 5
}
